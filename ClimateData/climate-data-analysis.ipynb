{
 "cells": [
  {
   "cell_type": "code",
   "execution_count": 6,
   "metadata": {
    "collapsed": false
   },
   "outputs": [],
   "source": [
    "import agate\n",
    "text = agate.Text()\n",
    "number = agate.Number()\n",
    "tester = agate.TypeTester(force={\n",
    "        'WFO': text,\n",
    "        'DAMAGE_PROPERTY': text,\n",
    "        'DAMAGE_CROPS': text,\n",
    "        'EPISODE_ID': text,\n",
    "        'INJURIES_INDIRECT': number,\n",
    "        'DEATHS_DIRECT': number,\n",
    "        'DEATHS_INDIRECT': number,\n",
    "        'STATE_FIPS': text,\n",
    "        'EVENT_ID': text,\n",
    "    },limit=300)\n",
    "mean_temps = agate.Table.from_csv('mean_temp_65_15.csv')"
   ]
  },
  {
   "cell_type": "code",
   "execution_count": 7,
   "metadata": {
    "collapsed": false
   },
   "outputs": [
    {
     "name": "stdout",
     "output_type": "stream",
     "text": [
      "|----------------------+---------------|\n",
      "|  column_names        | column_types  |\n",
      "|----------------------+---------------|\n",
      "|  Name                | Text          |\n",
      "|   MeanAvgTemperature | Text          |\n",
      "|   mcnt               | Number        |\n",
      "|----------------------+---------------|\n",
      "\n"
     ]
    }
   ],
   "source": [
    "print(mean_temps)"
   ]
  },
  {
   "cell_type": "code",
   "execution_count": 13,
   "metadata": {
    "collapsed": false
   },
   "outputs": [
    {
     "name": "stdout",
     "output_type": "stream",
     "text": [
      "|-----------------------+---------------------+--------|\n",
      "|  Name                 |  MeanAvgTemperature |  mcnt  |\n",
      "|-----------------------+---------------------+--------|\n",
      "|  OMAHA EPPLEY AIRF... | 51.1                |     4  |\n",
      "|  NORFOLK KARL STEF... | 49.1                |     4  |\n",
      "|  GRAND ISLAND AP      | 50.6                |     1  |\n",
      "|  NORTH PLATTE RGNL AP | 48.6                |     0  |\n",
      "|  Grand Island Area    | 50.6                |     1  |\n",
      "|  North Platte Area    | 48.6                |     0  |\n",
      "|  Lincoln Area         | 51.4                |     2  |\n",
      "|  Norfolk Area         | 49.1                |     4  |\n",
      "|  Omaha Area           | 51.1                |     2  |\n",
      "|-----------------------+---------------------+--------|\n",
      "|-------+---------------------+--------|\n",
      "|  Name |  MeanAvgTemperature |  mcnt  |\n",
      "|-------+---------------------+--------|\n",
      "|-------+---------------------+--------|\n"
     ]
    }
   ],
   "source": [
    "import re\n",
    "\n",
    "mean_temps_long = mean_temps.where(lambda row: row[' MeanAvgTemperature'] != 'M')\n",
    "mean_locations = mean_temps_long.where(lambda row:re.match('\\w*Area\\b', row['Name']))\n",
    "locations = ['Grand Island Area', 'North Platte Area', 'Lincoln Area', 'Norfolk Area', 'Omaha Area']\n",
    "mean_temps_long.print_table()\n",
    "mean_locations.print_table()"
   ]
  },
  {
   "cell_type": "code",
   "execution_count": 32,
   "metadata": {
    "collapsed": false
   },
   "outputs": [],
   "source": [
    "tornados = year_counts.where(lambda row: row['EVENT_TYPE'] == 'Tornado')\n",
    "#tornados.print_table()"
   ]
  },
  {
   "cell_type": "code",
   "execution_count": 15,
   "metadata": {
    "collapsed": false
   },
   "outputs": [
    {
     "name": "stdout",
     "output_type": "stream",
     "text": [
      "In 1951, there were 9 tornados, and in 2015, there were 29 tornados, a 2.222222222222222222222222222 percent change\n"
     ]
    }
   ],
   "source": [
    "old_year = tornados.columns['YEAR'][0]\n",
    "old_tornados = tornados.columns['count'][0]\n",
    "newest_index = len((tornados.rows))\n",
    "new_year = tornados.columns['YEAR'][64]\n",
    "new_tornados = tornados.columns['count'][64]\n",
    "pc_tornados = (new_tornados - old_tornados) / old_tornados\n",
    "print(\"In {}, there were {} tornados, and in {}, there were {} tornados, a {} percent change\".format(old_year, old_tornados, new_year, new_tornados, pc_tornados))"
   ]
  },
  {
   "cell_type": "code",
   "execution_count": 33,
   "metadata": {
    "collapsed": false
   },
   "outputs": [],
   "source": [
    "hail = year_counts.where(lambda row: row['EVENT_TYPE'] == 'Hail')\n",
    "#hail.print_table()"
   ]
  },
  {
   "cell_type": "code",
   "execution_count": 35,
   "metadata": {
    "collapsed": false
   },
   "outputs": [
    {
     "name": "stdout",
     "output_type": "stream",
     "text": [
      "61\n",
      "In 1955, there were 25 hail storms, and in 2015, there were 741 hail storms, a 28.64 percent change\n"
     ]
    }
   ],
   "source": [
    "old_year = hail.columns['YEAR'][0]\n",
    "old_hail = hail.columns['count'][0]\n",
    "newest_index = len((hail.rows))\n",
    "print(newest_index)\n",
    "new_year = hail.columns['YEAR'][60]\n",
    "new_hail = hail.columns['count'][60]\n",
    "pc_hail = (new_hail - old_hail) / old_hail\n",
    "print(\"In {}, there were {} hail storms, and in {}, there were {} hail storms, a {} percent change\".format(old_year, old_hail, new_year, new_hail, pc_hail))"
   ]
  },
  {
   "cell_type": "code",
   "execution_count": 34,
   "metadata": {
    "collapsed": false
   },
   "outputs": [],
   "source": [
    "thunderstorms = year_counts.where(lambda row: row['EVENT_TYPE'] == 'Thunderstorm Wind')\n",
    "#thunderstorms.print_table()"
   ]
  },
  {
   "cell_type": "code",
   "execution_count": 36,
   "metadata": {
    "collapsed": false
   },
   "outputs": [
    {
     "name": "stdout",
     "output_type": "stream",
     "text": [
      "61\n",
      "In 1955, there were 9 thunderstorms, and in 2015, there were 276 thunderstorms, a 29.66666666666666666666666667 percent change\n"
     ]
    }
   ],
   "source": [
    "old_year = thunderstorms.columns['YEAR'][0]\n",
    "old_thunderstorms = thunderstorms.columns['count'][0]\n",
    "newest_index = len((thunderstorms.rows))\n",
    "print(newest_index)\n",
    "new_year = thunderstorms.columns['YEAR'][60]\n",
    "new_thunderstorms = thunderstorms.columns['count'][60]\n",
    "pc_thunderstorms = (new_thunderstorms - old_thunderstorms) / old_thunderstorms\n",
    "print(\"In {}, there were {} thunderstorms, and in {}, there were {} thunderstorms, a {} percent change\".format(old_year, old_thunderstorms, new_year, new_thunderstorms, pc_thunderstorms))"
   ]
  },
  {
   "cell_type": "code",
   "execution_count": 39,
   "metadata": {
    "collapsed": false
   },
   "outputs": [
    {
     "name": "stdout",
     "output_type": "stream",
     "text": [
      "|--------+------------+--------|\n",
      "|   YEAR | EVENT_TYPE | count  |\n",
      "|--------+------------+--------|\n",
      "|  1,996 | Blizzard   |   118  |\n",
      "|  1,997 | Blizzard   |    53  |\n",
      "|  1,998 | Blizzard   |    10  |\n",
      "|  2,000 | Blizzard   |     4  |\n",
      "|  2,001 | Blizzard   |     2  |\n",
      "|  2,004 | Blizzard   |    14  |\n",
      "|  2,005 | Blizzard   |    52  |\n",
      "|  2,006 | Blizzard   |    21  |\n",
      "|  2,007 | Blizzard   |    45  |\n",
      "|  2,008 | Blizzard   |     8  |\n",
      "|  2,009 | Blizzard   |   171  |\n",
      "|  2,010 | Blizzard   |    48  |\n",
      "|  2,011 | Blizzard   |    10  |\n",
      "|  2,012 | Blizzard   |    41  |\n",
      "|  2,013 | Blizzard   |    45  |\n",
      "|  2,015 | Blizzard   |     4  |\n",
      "|--------+------------+--------|\n",
      "16\n"
     ]
    }
   ],
   "source": [
    "blizzards = year_counts.where(lambda row: row['EVENT_TYPE'] == 'Blizzard')\n",
    "blizzards.print_table()\n",
    "newest_index = len((blizzards.rows))\n",
    "print(newest_index)"
   ]
  },
  {
   "cell_type": "code",
   "execution_count": 40,
   "metadata": {
    "collapsed": false
   },
   "outputs": [
    {
     "name": "stdout",
     "output_type": "stream",
     "text": [
      "In 1996, there were 118 blizzards, and in 2015, there were 4 blizzards, a -0.9661016949152542372881355932 percent change\n"
     ]
    }
   ],
   "source": [
    "old_year = blizzards.columns['YEAR'][0]\n",
    "old_blizzards = blizzards.columns['count'][0]\n",
    "new_year = blizzards.columns['YEAR'][15]\n",
    "new_blizzards = blizzards.columns['count'][15]\n",
    "pc_blizzards = (new_blizzards - old_blizzards) / old_blizzards\n",
    "print(\"In {}, there were {} blizzards, and in {}, there were {} blizzards, a {} percent change\".format(old_year, old_blizzards, new_year, new_blizzards, pc_blizzards))"
   ]
  },
  {
   "cell_type": "code",
   "execution_count": null,
   "metadata": {
    "collapsed": true
   },
   "outputs": [],
   "source": []
  }
 ],
 "metadata": {
  "kernelspec": {
   "display_name": "Python 3",
   "language": "python",
   "name": "python3"
  },
  "language_info": {
   "codemirror_mode": {
    "name": "ipython",
    "version": 3
   },
   "file_extension": ".py",
   "mimetype": "text/x-python",
   "name": "python",
   "nbconvert_exporter": "python",
   "pygments_lexer": "ipython3",
   "version": "3.5.1"
  }
 },
 "nbformat": 4,
 "nbformat_minor": 0
}
