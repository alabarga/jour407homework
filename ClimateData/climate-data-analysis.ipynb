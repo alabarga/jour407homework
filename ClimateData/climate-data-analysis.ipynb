{
 "cells": [
  {
   "cell_type": "code",
   "execution_count": 2,
   "metadata": {
    "collapsed": false
   },
   "outputs": [],
   "source": [
    "import agate\n",
    "text = agate.Text()\n",
    "number = agate.Number()\n",
    "tester = agate.TypeTester(force={\n",
    "        'WFO': text,\n",
    "        'DAMAGE_PROPERTY': text,\n",
    "        'DAMAGE_CROPS': text,\n",
    "        'EPISODE_ID': text,\n",
    "        'INJURIES_INDIRECT': number,\n",
    "        'DEATHS_DIRECT': number,\n",
    "        'DEATHS_INDIRECT': number,\n",
    "        'STATE_FIPS': text,\n",
    "        'EVENT_ID': text,\n",
    "    },limit=300)\n",
    "mean_temps = agate.Table.from_csv('mean_temp_65_15.csv')"
   ]
  },
  {
   "cell_type": "code",
   "execution_count": 3,
   "metadata": {
    "collapsed": false
   },
   "outputs": [
    {
     "name": "stdout",
     "output_type": "stream",
     "text": [
      "|----------------------+---------------|\n",
      "|  column_names        | column_types  |\n",
      "|----------------------+---------------|\n",
      "|  Name                | Text          |\n",
      "|   MeanAvgTemperature | Text          |\n",
      "|   mcnt               | Number        |\n",
      "|----------------------+---------------|\n",
      "\n"
     ]
    }
   ],
   "source": [
    "print(mean_temps)"
   ]
  },
  {
   "cell_type": "code",
   "execution_count": 6,
   "metadata": {
    "collapsed": false
   },
   "outputs": [
    {
     "name": "stdout",
     "output_type": "stream",
     "text": [
      "|-----------------------+---------------------+--------|\n",
      "|  Name                 |  MeanAvgTemperature |  mcnt  |\n",
      "|-----------------------+---------------------+--------|\n",
      "|  OMAHA EPPLEY AIRF... | 51.1                |     4  |\n",
      "|  NORFOLK KARL STEF... | 49.1                |     4  |\n",
      "|  GRAND ISLAND AP      | 50.6                |     1  |\n",
      "|  NORTH PLATTE RGNL AP | 48.6                |     0  |\n",
      "|  Grand Island Area    | 50.6                |     1  |\n",
      "|  North Platte Area    | 48.6                |     0  |\n",
      "|  Lincoln Area         | 51.4                |     2  |\n",
      "|  Norfolk Area         | 49.1                |     4  |\n",
      "|  Omaha Area           | 51.1                |     2  |\n",
      "|-----------------------+---------------------+--------|\n",
      "|--------------------+---------------------+--------|\n",
      "|  Name              |  MeanAvgTemperature |  mcnt  |\n",
      "|--------------------+---------------------+--------|\n",
      "|  Grand Island Area | 50.6                |     1  |\n",
      "|  North Platte Area | 48.6                |     0  |\n",
      "|  Lincoln Area      | 51.4                |     2  |\n",
      "|  Norfolk Area      | 49.1                |     4  |\n",
      "|  Omaha Area        | 51.1                |     2  |\n",
      "|--------------------+---------------------+--------|\n"
     ]
    }
   ],
   "source": [
    "import re\n",
    "\n",
    "mean_temps_long = mean_temps.where(lambda row: row[' MeanAvgTemperature'] != 'M')\n",
    "locations = ['Grand Island Area', 'North Platte Area', 'Lincoln Area', 'Norfolk Area', 'Omaha Area']\n",
    "mean_locations = mean_temps_long.where(lambda row:row['Name'] in locations)\n",
    "\n",
    "mean_temps_long.print_table()\n",
    "mean_locations.print_table()"
   ]
  },
  {
   "cell_type": "code",
   "execution_count": null,
   "metadata": {
    "collapsed": true
   },
   "outputs": [],
   "source": []
  }
 ],
 "metadata": {
  "kernelspec": {
   "display_name": "Python 3",
   "language": "python",
   "name": "python3"
  },
  "language_info": {
   "codemirror_mode": {
    "name": "ipython",
    "version": 3
   },
   "file_extension": ".py",
   "mimetype": "text/x-python",
   "name": "python",
   "nbconvert_exporter": "python",
   "pygments_lexer": "ipython3",
   "version": "3.5.1"
  }
 },
 "nbformat": 4,
 "nbformat_minor": 0
}
