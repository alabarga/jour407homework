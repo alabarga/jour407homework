{
 "cells": [
  {
   "cell_type": "code",
   "execution_count": 2,
   "metadata": {
    "collapsed": true
   },
   "outputs": [],
   "source": [
    "import agate"
   ]
  },
  {
   "cell_type": "code",
   "execution_count": 3,
   "metadata": {
    "collapsed": false
   },
   "outputs": [],
   "source": [
    "tester = agate.TypeTester(force = {\n",
    "        'NrdPermit': agate.Text(),\n",
    "        'PostalCD': agate.Text()\n",
    "    }, limit=100)\n",
    "wells = agate.Table.from_csv('wells.csv', column_types=tester)"
   ]
  },
  {
   "cell_type": "code",
   "execution_count": 4,
   "metadata": {
    "collapsed": false
   },
   "outputs": [
    {
     "name": "stdout",
     "output_type": "stream",
     "text": [
      "|---------------+---------------|\n",
      "|  column_names | column_types  |\n",
      "|---------------+---------------|\n",
      "|  X            | Number        |\n",
      "|  Y            | Number        |\n",
      "|  WellID       | Number        |\n",
      "|  RegCD        | Text          |\n",
      "|  Replacemen   | Number        |\n",
      "|  Status       | Text          |\n",
      "|  Useid        | Text          |\n",
      "|  NrdName      | Text          |\n",
      "|  NrdID        | Number        |\n",
      "|  Countyname   | Text          |\n",
      "|  CountyID     | Number        |\n",
      "|  Township     | Number        |\n",
      "|  Range        | Number        |\n",
      "|  RangeDir     | Text          |\n",
      "|  Section      | Number        |\n",
      "|  SubSection   | Text          |\n",
      "|  FootageNS    | Number        |\n",
      "|  FootageDir   | Text          |\n",
      "|  FootageEW    | Number        |\n",
      "|  FootageD_1   | Text          |\n",
      "|  NrdPermit    | Text          |\n",
      "|  Acres        | Number        |\n",
      "|  SeriesType   | Text          |\n",
      "|  SeriesEnd    | Date          |\n",
      "|  PumpRate     | Number        |\n",
      "|  PColDiam     | Number        |\n",
      "|  PumpDepth    | Number        |\n",
      "|  TotalDepth   | Number        |\n",
      "|  SWL          | Number        |\n",
      "|  PWL          | Number        |\n",
      "|  CertifID     | Number        |\n",
      "|  OwnerID      | Number        |\n",
      "|  FirstName    | Text          |\n",
      "|  LastName     | Text          |\n",
      "|  Address      | Text          |\n",
      "|  CityNameID   | Text          |\n",
      "|  StateRID     | Text          |\n",
      "|  PostalCD     | Text          |\n",
      "|  RegDate      | Date          |\n",
      "|  Compdate     | Date          |\n",
      "|  LastChgDat   | Date          |\n",
      "|  DecommDate   | Date          |\n",
      "|  LatDD        | Number        |\n",
      "|  LongDD       | Number        |\n",
      "|  CalcGPS      | Number        |\n",
      "|---------------+---------------|\n",
      "\n"
     ]
    }
   ],
   "source": [
    "print(wells)"
   ]
  },
  {
   "cell_type": "code",
   "execution_count": 5,
   "metadata": {
    "collapsed": false
   },
   "outputs": [],
   "source": [
    "oldest = wells.aggregate(agate.Min('Compdate'))"
   ]
  },
  {
   "cell_type": "code",
   "execution_count": 6,
   "metadata": {
    "collapsed": false
   },
   "outputs": [
    {
     "name": "stdout",
     "output_type": "stream",
     "text": [
      "1895-01-01\n"
     ]
    }
   ],
   "source": [
    "print(oldest)"
   ]
  },
  {
   "cell_type": "code",
   "execution_count": 7,
   "metadata": {
    "collapsed": true
   },
   "outputs": [],
   "source": [
    "newest = wells.aggregate(agate.Max('Compdate'))"
   ]
  },
  {
   "cell_type": "code",
   "execution_count": 8,
   "metadata": {
    "collapsed": false
   },
   "outputs": [
    {
     "name": "stdout",
     "output_type": "stream",
     "text": [
      "2016-02-25\n"
     ]
    }
   ],
   "source": [
    "print(newest)"
   ]
  },
  {
   "cell_type": "code",
   "execution_count": 9,
   "metadata": {
    "collapsed": true
   },
   "outputs": [],
   "source": [
    "class ActiveWell(agate.Computation):\n",
    "    \"\"\"\n",
    "    Computes whether a well is active in a year\n",
    "    \"\"\"\n",
    "    def __init__(self, column_name_start, column_name_end, year):\n",
    "        self._column_start = column_name_start\n",
    "        self._column_end = column_name_end\n",
    "        self._year = year\n",
    "\n",
    "    def get_computed_data_type(self, table):\n",
    "        \"\"\"\n",
    "        The return value is a boolean.\n",
    "        \"\"\"\n",
    "        return agate.Boolean()\n",
    "\n",
    "    def validate(self, table):\n",
    "        \"\"\"\n",
    "        Verify the column is date.\n",
    "        \"\"\"\n",
    "        columnStart = table.columns[self._column_start]\n",
    "\n",
    "        if not isinstance(columnStart.data_type, agate.Date):\n",
    "            raise agate.DataTypeError('Can only be applied to date data.')\n",
    "            \n",
    "        columnEnd = table.columns[self._column_end]\n",
    "\n",
    "        if not isinstance(columnEnd.data_type, agate.Date):\n",
    "            raise agate.DataTypeError('Can only be applied to date data.')\n",
    "\n",
    "    def run(self, table):\n",
    "        new_column = []\n",
    "        \n",
    "        for row in table.rows:\n",
    "            start_val = row[self._column_start]\n",
    "            if start_val is not None:\n",
    "                start_year = start_val.year\n",
    "            else:\n",
    "                start_year = 1700\n",
    "            end_val = row[self._column_end]\n",
    "            if end_val is not None:\n",
    "                end_year = end_val.year\n",
    "            else:\n",
    "                end_year = 5000\n",
    "            if start_year < self._year < end_year:\n",
    "                status = True\n",
    "                new_column.append(status)\n",
    "            else:\n",
    "                status = False\n",
    "                new_column.append(status)\n",
    "        return new_column"
   ]
  },
  {
   "cell_type": "code",
   "execution_count": 10,
   "metadata": {
    "collapsed": false
   },
   "outputs": [],
   "source": [
    "active_wells = wells.compute([\n",
    "    ('2010active', ActiveWell('Compdate', 'DecommDate', 2010))\n",
    "        ])"
   ]
  },
  {
   "cell_type": "code",
   "execution_count": 11,
   "metadata": {
    "collapsed": false
   },
   "outputs": [
    {
     "name": "stdout",
     "output_type": "stream",
     "text": [
      "|----------------------+------------+------------+-------------|\n",
      "|  LastName            |   Compdate | DecommDate | 2010active  |\n",
      "|----------------------+------------+------------+-------------|\n",
      "|  Binderup            | 2003-01-08 |            |       True  |\n",
      "|  Letcher             | 2003-05-14 |            |       True  |\n",
      "|  Keldren Partners    | 1977-06-22 | 1993-05-01 |      False  |\n",
      "|  Layher              | 1980-11-03 |            |       True  |\n",
      "|  Elting Farms        | 1955-10-07 | 2007-03-01 |      False  |\n",
      "|  Carlson             | 1966-01-01 | 2003-09-01 |      False  |\n",
      "|  Kampfe              | 1937-01-01 |            |       True  |\n",
      "|  Houser Family Trust | 1969-05-06 | 2001-06-01 |      False  |\n",
      "|  McConnell           | 2004-05-20 |            |       True  |\n",
      "|  Schmidt             | 1947-07-01 |            |       True  |\n",
      "|  ...                 |        ... |        ... |        ...  |\n",
      "|----------------------+------------+------------+-------------|\n"
     ]
    }
   ],
   "source": [
    "checkActive = active_wells.select(['LastName', 'Compdate', 'DecommDate', '2010active'])\n",
    "checkActive.print_table(10)"
   ]
  },
  {
   "cell_type": "code",
   "execution_count": null,
   "metadata": {
    "collapsed": true
   },
   "outputs": [],
   "source": []
  }
 ],
 "metadata": {
  "kernelspec": {
   "display_name": "Python 3",
   "language": "python",
   "name": "python3"
  },
  "language_info": {
   "codemirror_mode": {
    "name": "ipython",
    "version": 3
   },
   "file_extension": ".py",
   "mimetype": "text/x-python",
   "name": "python",
   "nbconvert_exporter": "python",
   "pygments_lexer": "ipython3",
   "version": "3.5.1"
  }
 },
 "nbformat": 4,
 "nbformat_minor": 0
}
