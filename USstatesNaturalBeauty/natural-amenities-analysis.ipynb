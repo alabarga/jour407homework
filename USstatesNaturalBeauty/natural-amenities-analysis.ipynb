{
 "cells": [
  {
   "cell_type": "code",
   "execution_count": 1,
   "metadata": {
    "collapsed": true
   },
   "outputs": [],
   "source": [
    "import agate"
   ]
  },
  {
   "cell_type": "code",
   "execution_count": 6,
   "metadata": {
    "collapsed": false
   },
   "outputs": [],
   "source": [
    "text = agate.Text()\n",
    "tester = agate.TypeTester(force={\n",
    "    'FIPS': text,\n",
    "    'CombinedFIPS': text,\n",
    "})\n",
    "\n",
    "natural = agate.Table.from_csv('naturalamenities.csv', column_types=tester)"
   ]
  },
  {
   "cell_type": "code",
   "execution_count": 7,
   "metadata": {
    "collapsed": false
   },
   "outputs": [
    {
     "name": "stdout",
     "output_type": "stream",
     "text": [
      "|-------------------------+---------------|\n",
      "|  column_names           | column_types  |\n",
      "|-------------------------+---------------|\n",
      "|  FIPS                   | Text          |\n",
      "|  CombinedFIPS           | Text          |\n",
      "|  STATE                  | Text          |\n",
      "|  County name            | Text          |\n",
      "|  CensusDivision         | Number        |\n",
      "|  RuralUrbanCode         | Number        |\n",
      "|  UrbanInfluenceCode     | Number        |\n",
      "|  MeanJanuaryTemp        | Number        |\n",
      "|  MeanJanuarySun         | Number        |\n",
      "|  MeanJulyTemp           | Number        |\n",
      "|  MeanJulyHumidity       | Number        |\n",
      "|  TopographyCode         | Number        |\n",
      "|  PercentWaterArea       | Number        |\n",
      "|  NaturalLogPercentWater | Number        |\n",
      "|  JanTempZScore          | Number        |\n",
      "|  JanSunZScore           | Number        |\n",
      "|  JulyTempZScore         | Number        |\n",
      "|  JulyHumidityZScore     | Number        |\n",
      "|  TopoZScore             | Number        |\n",
      "|  WaterAreaZScore        | Number        |\n",
      "|  NaturalAmenityScale    | Number        |\n",
      "|  NaturualAmenityRank    | Number        |\n",
      "|-------------------------+---------------|\n",
      "\n"
     ]
    }
   ],
   "source": [
    "print(natural)"
   ]
  },
  {
   "cell_type": "code",
   "execution_count": 10,
   "metadata": {
    "collapsed": false
   },
   "outputs": [
    {
     "name": "stdout",
     "output_type": "stream",
     "text": [
      "1.82\n"
     ]
    }
   ],
   "source": [
    "print(natural.columns['NaturalAmenityScale'][1])"
   ]
  },
  {
   "cell_type": "code",
   "execution_count": 18,
   "metadata": {
    "collapsed": true
   },
   "outputs": [],
   "source": [
    "bottom50 = natural.order_by('NaturalAmenityScale').select([\n",
    "        'FIPS', 'NaturalAmenityScale'\n",
    "    ])"
   ]
  },
  {
   "cell_type": "code",
   "execution_count": 19,
   "metadata": {
    "collapsed": false
   },
   "outputs": [
    {
     "name": "stdout",
     "output_type": "stream",
     "text": [
      "|--------+----------------------|\n",
      "|  FIPS  | NaturalAmenityScale  |\n",
      "|--------+----------------------|\n",
      "|  27125 |               -6.40  |\n",
      "|  27167 |               -6.10  |\n",
      "|  18159 |               -5.40  |\n",
      "|  27107 |               -5.37  |\n",
      "|  27099 |               -5.18  |\n",
      "|  38067 |               -5.18  |\n",
      "|  38097 |               -5.12  |\n",
      "|  27039 |               -5.08  |\n",
      "|  38035 |               -5.01  |\n",
      "|  27113 |               -4.97  |\n",
      "|  27069 |               -4.90  |\n",
      "|  19075 |               -4.86  |\n",
      "|  38017 |               -4.84  |\n",
      "|  18007 |               -4.71  |\n",
      "|  17019 |               -4.55  |\n",
      "|  19119 |               -4.49  |\n",
      "|  19109 |               -4.47  |\n",
      "|  19191 |               -4.44  |\n",
      "|  18023 |               -4.37  |\n",
      "|  55019 |               -4.34  |\n",
      "|  27135 |               -4.30  |\n",
      "|  27133 |               -4.25  |\n",
      "|  19141 |               -4.23  |\n",
      "|  17147 |               -4.21  |\n",
      "|  38073 |               -4.21  |\n",
      "|  27071 |               -4.20  |\n",
      "|  19069 |               -4.18  |\n",
      "|  27027 |               -4.17  |\n",
      "|  19089 |               -4.16  |\n",
      "|  27117 |               -4.13  |\n",
      "|  19131 |               -4.10  |\n",
      "|  19065 |               -4.09  |\n",
      "|  19081 |               -4.06  |\n",
      "|  19091 |               -4.05  |\n",
      "|  27089 |               -4.05  |\n",
      "|  31185 |               -4.05  |\n",
      "|  19067 |               -4.03  |\n",
      "|  17053 |               -4.02  |\n",
      "|  31179 |               -4.02  |\n",
      "|  17075 |               -4.00  |\n",
      "|  31059 |               -4.00  |\n",
      "|  38095 |               -3.99  |\n",
      "|  18075 |               -3.98  |\n",
      "|  21213 |               -3.98  |\n",
      "|  27173 |               -3.98  |\n",
      "|  18139 |               -3.97  |\n",
      "|  27109 |               -3.96  |\n",
      "|  17105 |               -3.95  |\n",
      "|  19107 |               -3.95  |\n",
      "|  38099 |               -3.95  |\n",
      "|  ...   |                 ...  |\n",
      "|--------+----------------------|\n"
     ]
    }
   ],
   "source": [
    "bottom50.print_table(50)"
   ]
  },
  {
   "cell_type": "code",
   "execution_count": 24,
   "metadata": {
    "collapsed": false
   },
   "outputs": [],
   "source": [
    "naturals = natural.select([\n",
    "        'FIPS', 'NaturalAmenityScale'\n",
    "    ])\n",
    "naturals.to_csv('natural-map.csv')"
   ]
  },
  {
   "cell_type": "code",
   "execution_count": null,
   "metadata": {
    "collapsed": true
   },
   "outputs": [],
   "source": []
  }
 ],
 "metadata": {
  "kernelspec": {
   "display_name": "Python 3",
   "language": "python",
   "name": "python3"
  },
  "language_info": {
   "codemirror_mode": {
    "name": "ipython",
    "version": 3
   },
   "file_extension": ".py",
   "mimetype": "text/x-python",
   "name": "python",
   "nbconvert_exporter": "python",
   "pygments_lexer": "ipython3",
   "version": "3.5.1"
  }
 },
 "nbformat": 4,
 "nbformat_minor": 0
}
