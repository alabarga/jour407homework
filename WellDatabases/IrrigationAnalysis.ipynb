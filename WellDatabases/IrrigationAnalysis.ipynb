{
 "cells": [
  {
   "cell_type": "markdown",
   "metadata": {},
   "source": [
    "Import agate, python based data analysis"
   ]
  },
  {
   "cell_type": "code",
   "execution_count": 1,
   "metadata": {
    "collapsed": true
   },
   "outputs": [],
   "source": [
    "import agate"
   ]
  },
  {
   "cell_type": "code",
   "execution_count": 33,
   "metadata": {
    "collapsed": false
   },
   "outputs": [],
   "source": [
    "date = agate.Date()\n",
    "\n",
    "tester = agate.TypeTester(force = {\n",
    "        'Year': date,\n",
    "    }, limit=100)\n",
    "acres = agate.Table.from_csv('irrigatedAcres97-12.csv', column_types=tester)"
   ]
  },
  {
   "cell_type": "code",
   "execution_count": 34,
   "metadata": {
    "collapsed": false
   },
   "outputs": [
    {
     "name": "stdout",
     "output_type": "stream",
     "text": [
      "|-------------------+---------------|\n",
      "|  column_names     | column_types  |\n",
      "|-------------------+---------------|\n",
      "|  Year             | Date          |\n",
      "|  State            | Text          |\n",
      "|  State ANSI       | Number        |\n",
      "|  Ag District      | Text          |\n",
      "|  Ag District Code | Number        |\n",
      "|  County           | Text          |\n",
      "|  County ANSI      | Number        |\n",
      "|  Commodity        | Text          |\n",
      "|  Data Item        | Text          |\n",
      "|  Domain           | Text          |\n",
      "|  Domain Category  | Text          |\n",
      "|  Value            | Text          |\n",
      "|  CV (%)           | Text          |\n",
      "|-------------------+---------------|\n",
      "\n"
     ]
    }
   ],
   "source": [
    "print(acres)"
   ]
  },
  {
   "cell_type": "code",
   "execution_count": 35,
   "metadata": {
    "collapsed": false
   },
   "outputs": [
    {
     "name": "stdout",
     "output_type": "stream",
     "text": [
      "|-------------+----------+------------+-------------+------------------+---------+-------------+-----------+----------------------+---------------+----------------------+--------+---------|\n",
      "|        Year | State    | State ANSI | Ag District | Ag District Code | County  | County ANSI | Commodity | Data Item            | Domain        | Domain Category      | Value  | CV (%)  |\n",
      "|-------------+----------+------------+-------------+------------------+---------+-------------+-----------+----------------------+---------------+----------------------+--------+---------|\n",
      "|  2012-01-01 | NEBRASKA |         31 | CENTRAL     |               50 | BUFFALO |          19 | AG LAND   | AG LAND, IRRIGATE... | AREA OPERATED | AREA OPERATED: (1... | 71,156 | 24.4    |\n",
      "|         ... | ...      |        ... | ...         |              ... | ...     |         ... | ...       | ...                  | ...           | ...                  | ...    | ...     |\n",
      "|-------------+----------+------------+-------------+------------------+---------+-------------+-----------+----------------------+---------------+----------------------+--------+---------|\n"
     ]
    }
   ],
   "source": [
    "acres.print_table(1)"
   ]
  },
  {
   "cell_type": "code",
   "execution_count": 36,
   "metadata": {
    "collapsed": false
   },
   "outputs": [
    {
     "name": "stdout",
     "output_type": "stream",
     "text": [
      "954\n"
     ]
    }
   ],
   "source": [
    "irrigated_acres = acres.where(lambda row: row['Year'].year == 2012)\n",
    "print(len(irrigated_acres.rows))"
   ]
  },
  {
   "cell_type": "markdown",
   "metadata": {},
   "source": [
    "The years in the array were chosen due to the USDA ag census was conducted on those dates. Therefore, this program loops through each year in the array, finds the irrigation acres in that year, and chooses the total field in the Domain column. Finally, the counties' total irrigated acres are exported in a csv file. Two counties were removed from the 1997 data because they had no total value for that year."
   ]
  },
  {
   "cell_type": "code",
   "execution_count": 42,
   "metadata": {
    "collapsed": false
   },
   "outputs": [
    {
     "name": "stdout",
     "output_type": "stream",
     "text": [
      "Begin 1997 irrigated acres analysis\n",
      "Number of counties included 91\n",
      "|-------------+---------+----------|\n",
      "|        Year | County  | Value    |\n",
      "|-------------+---------+----------|\n",
      "|  1997-01-01 | BUFFALO | 213,778  |\n",
      "|  1997-01-01 | CUSTER  | 197,726  |\n",
      "|  1997-01-01 | DAWSON  | 222,075  |\n",
      "|  1997-01-01 | GREELEY | 57,413   |\n",
      "|  1997-01-01 | HALL    | 181,222  |\n",
      "|  1997-01-01 | HOWARD  | 111,342  |\n",
      "|  1997-01-01 | SHERMAN | 59,487   |\n",
      "|  1997-01-01 | VALLEY  | 73,340   |\n",
      "|  1997-01-01 | BUTLER  | 97,543   |\n",
      "|  1997-01-01 | COLFAX  | 53,059   |\n",
      "|         ... | ...     | ...      |\n",
      "|-------------+---------+----------|\n",
      "Begin 2002 irrigated acres analysis\n",
      "Number of counties included 93\n",
      "|-------------+---------+----------|\n",
      "|        Year | County  | Value    |\n",
      "|-------------+---------+----------|\n",
      "|  2002-01-01 | BUFFALO | 233,569  |\n",
      "|  2002-01-01 | CUSTER  | 207,230  |\n",
      "|  2002-01-01 | DAWSON  | 225,508  |\n",
      "|  2002-01-01 | GREELEY | 61,405   |\n",
      "|  2002-01-01 | HALL    | 187,021  |\n",
      "|  2002-01-01 | HOWARD  | 103,499  |\n",
      "|  2002-01-01 | SHERMAN | 61,231   |\n",
      "|  2002-01-01 | VALLEY  | 77,861   |\n",
      "|  2002-01-01 | BUTLER  | 110,160  |\n",
      "|  2002-01-01 | CASS    | 2,137    |\n",
      "|         ... | ...     | ...      |\n",
      "|-------------+---------+----------|\n",
      "Begin 2007 irrigated acres analysis\n",
      "Number of counties included 93\n",
      "|-------------+---------+----------|\n",
      "|        Year | County  | Value    |\n",
      "|-------------+---------+----------|\n",
      "|  2007-01-01 | BUFFALO | 269,141  |\n",
      "|  2007-01-01 | CUSTER  | 333,441  |\n",
      "|  2007-01-01 | DAWSON  | 263,867  |\n",
      "|  2007-01-01 | GREELEY | 76,393   |\n",
      "|  2007-01-01 | HALL    | 206,897  |\n",
      "|  2007-01-01 | HOWARD  | 104,273  |\n",
      "|  2007-01-01 | SHERMAN | 72,256   |\n",
      "|  2007-01-01 | VALLEY  | 99,325   |\n",
      "|  2007-01-01 | BUTLER  | 117,973  |\n",
      "|  2007-01-01 | CASS    | 2,959    |\n",
      "|         ... | ...     | ...      |\n",
      "|-------------+---------+----------|\n",
      "Begin 2012 irrigated acres analysis\n",
      "Number of counties included 93\n",
      "|-------------+---------+----------|\n",
      "|        Year | County  | Value    |\n",
      "|-------------+---------+----------|\n",
      "|  2012-01-01 | BUFFALO | 240,799  |\n",
      "|  2012-01-01 | CUSTER  | 261,502  |\n",
      "|  2012-01-01 | DAWSON  | 248,463  |\n",
      "|  2012-01-01 | GREELEY | 88,190   |\n",
      "|  2012-01-01 | HALL    | 207,639  |\n",
      "|  2012-01-01 | HOWARD  | 115,436  |\n",
      "|  2012-01-01 | SHERMAN | 71,109   |\n",
      "|  2012-01-01 | VALLEY  | 93,080   |\n",
      "|  2012-01-01 | BUTLER  | 110,839  |\n",
      "|  2012-01-01 | CASS    | 3,513    |\n",
      "|         ... | ...     | ...      |\n",
      "|-------------+---------+----------|\n"
     ]
    }
   ],
   "source": [
    "years = [1997, 2002, 2007, 2012]\n",
    "for year in years:\n",
    "    print(\"Begin {0} irrigated acres analysis\".format(year))\n",
    "    irrigated_acres = acres.where(lambda row: row['Year'].year == year)\n",
    "    totals = irrigated_acres.where(lambda row: row['Domain'] == 'TOTAL')\n",
    "    clean_totals = totals.where(lambda row: row['Value'] != '(D)')\n",
    "    print(\"Number of counties included {0}\".format(len(clean_totals.rows)))\n",
    "    print_table = clean_totals.select(['Year', 'County', 'Value'])\n",
    "    irrigation_counts = print_table.rename(column_names = ['Year','County', 'IrrigatedAcres'])\n",
    "    print_table.print_table(10)\n",
    "    irrigation_counts.to_csv('irrigatedAcres{0}.csv'.format(year))"
   ]
  },
  {
   "cell_type": "code",
   "execution_count": null,
   "metadata": {
    "collapsed": true
   },
   "outputs": [],
   "source": []
  }
 ],
 "metadata": {
  "kernelspec": {
   "display_name": "Python 3",
   "language": "python",
   "name": "python3"
  },
  "language_info": {
   "codemirror_mode": {
    "name": "ipython",
    "version": 3
   },
   "file_extension": ".py",
   "mimetype": "text/x-python",
   "name": "python",
   "nbconvert_exporter": "python",
   "pygments_lexer": "ipython3",
   "version": "3.5.1"
  }
 },
 "nbformat": 4,
 "nbformat_minor": 0
}
