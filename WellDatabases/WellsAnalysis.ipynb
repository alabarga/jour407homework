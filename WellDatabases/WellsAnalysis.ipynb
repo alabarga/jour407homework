{
 "cells": [
  {
   "cell_type": "code",
   "execution_count": 1,
   "metadata": {
    "collapsed": true
   },
   "outputs": [],
   "source": [
    "import agate"
   ]
  },
  {
   "cell_type": "code",
   "execution_count": 4,
   "metadata": {
    "collapsed": false
   },
   "outputs": [],
   "source": [
    "tester = agate.TypeTester(force = {\n",
    "        'NrdPermit': agate.Text(),\n",
    "        'PostalCD': agate.Text()\n",
    "    }, limit=100)\n",
    "wells = agate.Table.from_csv('wells.csv', column_types=tester)"
   ]
  },
  {
   "cell_type": "code",
   "execution_count": 5,
   "metadata": {
    "collapsed": false
   },
   "outputs": [
    {
     "name": "stdout",
     "output_type": "stream",
     "text": [
      "|---------------+---------------|\n",
      "|  column_names | column_types  |\n",
      "|---------------+---------------|\n",
      "|  X            | Number        |\n",
      "|  Y            | Number        |\n",
      "|  WellID       | Number        |\n",
      "|  RegCD        | Text          |\n",
      "|  Replacemen   | Number        |\n",
      "|  Status       | Text          |\n",
      "|  Useid        | Text          |\n",
      "|  NrdName      | Text          |\n",
      "|  NrdID        | Number        |\n",
      "|  Countyname   | Text          |\n",
      "|  CountyID     | Number        |\n",
      "|  Township     | Number        |\n",
      "|  Range        | Number        |\n",
      "|  RangeDir     | Text          |\n",
      "|  Section      | Number        |\n",
      "|  SubSection   | Text          |\n",
      "|  FootageNS    | Number        |\n",
      "|  FootageDir   | Text          |\n",
      "|  FootageEW    | Number        |\n",
      "|  FootageD_1   | Text          |\n",
      "|  NrdPermit    | Text          |\n",
      "|  Acres        | Number        |\n",
      "|  SeriesType   | Text          |\n",
      "|  SeriesEnd    | Date          |\n",
      "|  PumpRate     | Number        |\n",
      "|  PColDiam     | Number        |\n",
      "|  PumpDepth    | Number        |\n",
      "|  TotalDepth   | Number        |\n",
      "|  SWL          | Number        |\n",
      "|  PWL          | Number        |\n",
      "|  CertifID     | Number        |\n",
      "|  OwnerID      | Number        |\n",
      "|  FirstName    | Text          |\n",
      "|  LastName     | Text          |\n",
      "|  Address      | Text          |\n",
      "|  CityNameID   | Text          |\n",
      "|  StateRID     | Text          |\n",
      "|  PostalCD     | Text          |\n",
      "|  RegDate      | Date          |\n",
      "|  Compdate     | Date          |\n",
      "|  LastChgDat   | Date          |\n",
      "|  DecommDate   | Date          |\n",
      "|  LatDD        | Number        |\n",
      "|  LongDD       | Number        |\n",
      "|  CalcGPS      | Number        |\n",
      "|---------------+---------------|\n",
      "\n"
     ]
    }
   ],
   "source": [
    "print(wells)"
   ]
  },
  {
   "cell_type": "code",
   "execution_count": 10,
   "metadata": {
    "collapsed": false
   },
   "outputs": [],
   "source": [
    "oldest = wells.aggregate(agate.Min('Compdate'))"
   ]
  },
  {
   "cell_type": "code",
   "execution_count": 11,
   "metadata": {
    "collapsed": false
   },
   "outputs": [
    {
     "name": "stdout",
     "output_type": "stream",
     "text": [
      "1895-01-01\n"
     ]
    }
   ],
   "source": [
    "print(oldest)"
   ]
  },
  {
   "cell_type": "code",
   "execution_count": 12,
   "metadata": {
    "collapsed": true
   },
   "outputs": [],
   "source": [
    "newest = wells.aggregate(agate.Max('Compdate'))"
   ]
  },
  {
   "cell_type": "code",
   "execution_count": 13,
   "metadata": {
    "collapsed": false
   },
   "outputs": [
    {
     "name": "stdout",
     "output_type": "stream",
     "text": [
      "2016-02-25\n"
     ]
    }
   ],
   "source": [
    "print(newest)"
   ]
  },
  {
   "cell_type": "code",
   "execution_count": 46,
   "metadata": {
    "collapsed": true
   },
   "outputs": [],
   "source": [
    "class ActiveWell(agate.Computation):\n",
    "    \"\"\"\n",
    "    Computes whether a well is active in a year\n",
    "    \"\"\"\n",
    "    def __init__(self, column_name_start, column_name_end, year):\n",
    "        self._column_start = column_name_start\n",
    "        self._column_end = column_name_end\n",
    "        self._year = year\n",
    "\n",
    "    def get_computed_data_type(self, table):\n",
    "        \"\"\"\n",
    "        The return value is a boolean.\n",
    "        \"\"\"\n",
    "        return agate.Boolean()\n",
    "\n",
    "    def validate(self, table):\n",
    "        \"\"\"\n",
    "        Verify the column is date.\n",
    "        \"\"\"\n",
    "        columnStart = table.columns[self._column_start]\n",
    "\n",
    "        if not isinstance(columnStart.data_type, agate.Date):\n",
    "            raise agate.DataTypeError('Can only be applied to date data.')\n",
    "            \n",
    "        columnEnd = table.columns[self._column_end]\n",
    "\n",
    "        if not isinstance(columnEnd.data_type, agate.Date):\n",
    "            raise agate.DataTypeError('Can only be applied to date data.')\n",
    "\n",
    "    def run(self, table):\n",
    "        new_column = []\n",
    "        \n",
    "        for row in table.rows:\n",
    "            start_val = row[self._column_start]\n",
    "            if start_val is not None:\n",
    "                start_year = start_val.year\n",
    "            else:\n",
    "                start_year = 1700\n",
    "            end_val = row[self._column_end]\n",
    "            if end_val is not None:\n",
    "                end_year = end_val.year\n",
    "            else:\n",
    "                end_year = 5000\n",
    "            if start_year < self._year < end_year:\n",
    "                status = True\n",
    "                new_column.append(status)\n",
    "            else:\n",
    "                status = False\n",
    "                new_column.append(status)\n",
    "        return new_column"
   ]
  },
  {
   "cell_type": "code",
   "execution_count": 47,
   "metadata": {
    "collapsed": false
   },
   "outputs": [],
   "source": [
    "active_wells = wells.compute([\n",
    "    ('2010active', ActiveWell('Compdate', 'DecommDate', 2010))\n",
    "        ])"
   ]
  },
  {
   "cell_type": "code",
   "execution_count": 50,
   "metadata": {
    "collapsed": false
   },
   "outputs": [
    {
     "name": "stdout",
     "output_type": "stream",
     "text": [
      "|-----------------------+----------------------+---------+----------+------------+--------+-------+----------------------+-------+--------------+----------+----------+-------+----------+---------+------------+-----------+------------+-----------+------------+-----------+-------+------------+------------+----------+----------+-----------+------------+-----+-----+----------+---------+----------------------+---------------------+----------------------+--------------+----------+----------+------------+------------+------------+------------+---------------+-----------------+---------+-------------|\n",
      "|                     X |                    Y |  WellID | RegCD    | Replacemen | Status | Useid | NrdName              | NrdID | Countyname   | CountyID | Township | Range | RangeDir | Section | SubSection | FootageNS | FootageDir | FootageEW | FootageD_1 | NrdPermit | Acres | SeriesType |  SeriesEnd | PumpRate | PColDiam | PumpDepth | TotalDepth | SWL | PWL | CertifID | OwnerID | FirstName            | LastName            | Address              | CityNameID   | StateRID | PostalCD |    RegDate |   Compdate | LastChgDat | DecommDate |         LatDD |          LongDD | CalcGPS | 2010active  |\n",
      "|-----------------------+----------------------+---------+----------+------------+--------+-------+----------------------+-------+--------------+----------+----------+-------+----------+---------+------------+-----------+------------+-----------+------------+-----------+-------+------------+------------+----------+----------+-----------+------------+-----+-----+----------+---------+----------------------+---------------------+----------------------+--------------+----------+----------+------------+------------+------------+------------+---------------+-----------------+---------+-------------|\n",
      "|  1,937,671.6492015... | 205,506.023683811... | 144,546 | G-120267 |          0 | A      | I     | Tri-Basin            |    24 | Kearney      |       50 |        5 |    14 | W        |      19 | NENE       |       535 | N          |        98 | E          | 688       | 130.0 | PRO        |            |      800 |        8 |       240 |        300 | 125 | 200 |   39,026 |  12,766 | Mark & Marian        | Binderup            | 617 South Ridge      | Minden       | NE       | 68959    | 2003-02-28 | 2003-01-08 | 2003-03-05 |            | 40.3924444444 |  -98.9326666667 |       0 |       True  |\n",
      "|  932,302.225212007... | 981,635.171449452... | 147,638 | G-125401 |          0 | A      | I     | Upper Niobrara-White |    12 | Sheridan     |       81 |       29 |    45 | W        |      17 | NENW       |        60 | N          |     2,490 | W          | 030038    |  86.2 | PRO        |            |      800 |        8 |       180 |        298 |  67 | 150 |   39,318 |  96,140 | Gerald C             | Letcher             | 3919 440th Road      | Hay Springs  | NE       | 69347    | 2004-01-02 | 2003-05-14 | 2008-03-25 |            | 42.4985710000 | -102.6265920000 |      -1 |       True  |\n",
      "|  1,865,414.4444959... | 520,831.618939849... |  64,988 | G-057319 |          0 | X      | I     | Lower Loup           |     7 | Sherman      |       82 |       15 |    16 | W        |      20 | NW         |         0 |            |         0 |            |           | 140.0 | PRO        | 2010-06-01 |      800 |        8 |         0 |        316 | 120 | 190 |        0 |  65,888 |                      | Keldren Partners    | PO Box 69            | York         | NE       | 68467    | 1977-07-20 | 1977-06-22 | 2006-12-01 | 1993-05-01 | 41.2602590000 |  -99.1813780000 |      -1 |      False  |\n",
      "|  2,039,222.7552662... | 380,201.195519102... |  72,575 | G-064619 |          0 | A      | I     | Central Platte       |    18 | Hall         |       40 |       10 |    11 | W        |       4 | SWNE       |         0 |            |         0 |            |           |  40.0 | PRO        |            |    1,000 |        8 |         0 |         77 |  33 |  49 |        0 |  27,725 | Kenneth & Harland    | Layher              | 5212 South Burwic... | Wood River   | NE       | 68883    | 1980-11-19 | 1980-11-03 | 2001-04-12 |            | 40.8679580000 |  -98.5576290000 |      -1 |       True  |\n",
      "|  2,310,148.2177938... | 177,970.788617353... |   3,441 | G-000210 |          0 | X      | I     | Little Blue          |     5 | Thayer       |       85 |        4 |     3 | W        |      24 | NESE       |     1,300 | S          |     1,220 | E          |           | 160.0 | PRO        | 2010-06-01 |      850 |        0 |         0 |          0 |   0 |   0 |        0 |  63,331 |                      | Elting Farms        | 2345 Road 4100       | Edgar        | NE       | 68935    | 1955-12-19 | 1955-10-07 | 2014-11-25 | 2007-03-01 | 40.2963520000 |  -97.5984830000 |      -1 |      False  |\n",
      "|  668,914.944700151... | 753,545.132251204... | 100,752 | G-088706 |          0 | X      | I     | North Platte         |    15 | Scotts Bluff |       79 |       22 |    54 | W        |      27 | SWSE       |       683 | S          |     2,540 | E          |           |   0.0 | PRO        | 2010-06-01 |      600 |        4 |        20 |          0 |   0 |   0 |        2 |  51,658 | Timothy L & Kimbe... | Carlson             | 280473 County Road K | Minatare     | NE       | 69356    | 1996-07-19 | 1966-01-01 | 2004-02-11 | 2003-09-01 | 41.8470110000 | -103.5677080000 |      -1 |      False  |\n",
      "|  1,599,731.7761256... | 412,890.158303130... |  19,515 | G-014098 |          0 | X      | I     | Central Platte       |    18 | Dawson       |       24 |       12 |    25 | W        |      35 | NWSW       |     2,610 | S          |        50 | W          |           | 160.0 | PRO        | 2010-06-01 |      900 |        9 |         0 |        112 |  50 |  85 |        0 |  26,306 | Raymond              | Kampfe              | 1201 Custer Court    | North Platte | NE       | 69101    | 1958-02-18 | 1937-01-01 |            |            | 40.9667420000 | -100.1473610000 |      -1 |       True  |\n",
      "|  1,527,383.4139041... | 259,754.334978985... |  38,431 | G-031472 |          0 | X      | I     | Middle Republican    |    22 | Frontier     |       32 |        7 |    27 | W        |      29 | NESE       |     1,625 | S          |     1,150 | E          |           | 100.0 | PRO        | 2010-06-01 |      800 |        9 |         0 |        180 | 128 | 175 |        0 | 100,767 | Homer                | Houser Family Trust | PO Box 1768          | Grand Island | NE       | 68802    | 1969-06-17 | 1969-05-06 | 2008-10-15 | 2001-06-01 | 40.5456830000 | -100.4067950000 |      -1 |      False  |\n",
      "|  823,298.180475383... | 625,245.398322003... | 158,949 | G-039652 |          1 | A      | I     | North Platte         |    15 | Morrill      |       62 |       18 |    49 | W        |      20 | SESE       |         0 |            |         0 |            | 04007     |  96.3 | PRO        |            |      650 |        6 |       180 |        260 |  35 | 140 |   39,399 |  31,122 | Rodney E             | McConnell           | RR 2  Box 134        | Broadwater   | NE       | 69125    | 2004-08-03 | 2004-05-20 | 2007-12-17 |            | 41.5111083333 | -102.9849916670 |       0 |       True  |\n",
      "|  2,057,293.3862883... | 200,589.702009908... |   1,368 | A-006056 |          0 | A      | I     | Little Blue          |     5 | Adams        |        1 |        5 |    11 | W        |      25 | SWNE       |         0 |            |         0 |            |           | 120.0 | PRO        |            |    1,000 |        0 |         0 |          0 |   0 |   0 |        0 |  82,041 | Dale                 | Schmidt             | PO Box 326           | Blue Hill    | NE       | 68930    | 1954-03-12 | 1947-07-01 | 2005-06-28 |            | 40.3740800000 |  -98.5035280000 |      -1 |       True  |\n",
      "|                   ... |                  ... |     ... | ...      |        ... | ...    | ...   | ...                  |   ... | ...          |      ... |      ... |   ... | ...      |     ... | ...        |       ... | ...        |       ... | ...        | ...       |   ... | ...        |        ... |      ... |      ... |       ... |        ... | ... | ... |      ... |     ... | ...                  | ...                 | ...                  | ...          | ...      | ...      |        ... |        ... |        ... |        ... |           ... |             ... |     ... |        ...  |\n",
      "|-----------------------+----------------------+---------+----------+------------+--------+-------+----------------------+-------+--------------+----------+----------+-------+----------+---------+------------+-----------+------------+-----------+------------+-----------+-------+------------+------------+----------+----------+-----------+------------+-----+-----+----------+---------+----------------------+---------------------+----------------------+--------------+----------+----------+------------+------------+------------+------------+---------------+-----------------+---------+-------------|\n"
     ]
    }
   ],
   "source": [
    "active_wells.print_table(10)"
   ]
  },
  {
   "cell_type": "code",
   "execution_count": null,
   "metadata": {
    "collapsed": true
   },
   "outputs": [],
   "source": []
  }
 ],
 "metadata": {
  "kernelspec": {
   "display_name": "Python 3",
   "language": "python",
   "name": "python3"
  },
  "language_info": {
   "codemirror_mode": {
    "name": "ipython",
    "version": 3
   },
   "file_extension": ".py",
   "mimetype": "text/x-python",
   "name": "python",
   "nbconvert_exporter": "python",
   "pygments_lexer": "ipython3",
   "version": "3.5.1"
  }
 },
 "nbformat": 4,
 "nbformat_minor": 0
}
