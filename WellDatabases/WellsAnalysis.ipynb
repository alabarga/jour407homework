{
 "cells": [
  {
   "cell_type": "markdown",
   "metadata": {},
   "source": [
    "Import agate, python based data analysis"
   ]
  },
  {
   "cell_type": "code",
   "execution_count": 1,
   "metadata": {
    "collapsed": true
   },
   "outputs": [],
   "source": [
    "import agate"
   ]
  },
  {
   "cell_type": "markdown",
   "metadata": {},
   "source": [
    "The well database is a big one so I'm going to force agate to take NrdPermit field as a text and PostalCD aka zip code as text also. Finally, limiting the number of rows agate checks helps it to run this code faster as well."
   ]
  },
  {
   "cell_type": "code",
   "execution_count": 2,
   "metadata": {
    "collapsed": false
   },
   "outputs": [],
   "source": [
    "tester = agate.TypeTester(force = {\n",
    "        'NrdPermit': agate.Text(),\n",
    "        'PostalCD': agate.Text()\n",
    "    }, limit=100)\n",
    "wells = agate.Table.from_csv('wells.csv', column_types=tester)"
   ]
  },
  {
   "cell_type": "code",
   "execution_count": 3,
   "metadata": {
    "collapsed": false
   },
   "outputs": [
    {
     "name": "stdout",
     "output_type": "stream",
     "text": [
      "|---------------+---------------|\n",
      "|  column_names | column_types  |\n",
      "|---------------+---------------|\n",
      "|  X            | Number        |\n",
      "|  Y            | Number        |\n",
      "|  WellID       | Number        |\n",
      "|  RegCD        | Text          |\n",
      "|  Replacemen   | Number        |\n",
      "|  Status       | Text          |\n",
      "|  Useid        | Text          |\n",
      "|  NrdName      | Text          |\n",
      "|  NrdID        | Number        |\n",
      "|  Countyname   | Text          |\n",
      "|  CountyID     | Number        |\n",
      "|  Township     | Number        |\n",
      "|  Range        | Number        |\n",
      "|  RangeDir     | Text          |\n",
      "|  Section      | Number        |\n",
      "|  SubSection   | Text          |\n",
      "|  FootageNS    | Number        |\n",
      "|  FootageDir   | Text          |\n",
      "|  FootageEW    | Number        |\n",
      "|  FootageD_1   | Text          |\n",
      "|  NrdPermit    | Text          |\n",
      "|  Acres        | Number        |\n",
      "|  SeriesType   | Text          |\n",
      "|  SeriesEnd    | Date          |\n",
      "|  PumpRate     | Number        |\n",
      "|  PColDiam     | Number        |\n",
      "|  PumpDepth    | Number        |\n",
      "|  TotalDepth   | Number        |\n",
      "|  SWL          | Number        |\n",
      "|  PWL          | Number        |\n",
      "|  CertifID     | Number        |\n",
      "|  OwnerID      | Number        |\n",
      "|  FirstName    | Text          |\n",
      "|  LastName     | Text          |\n",
      "|  Address      | Text          |\n",
      "|  CityNameID   | Text          |\n",
      "|  StateRID     | Text          |\n",
      "|  PostalCD     | Text          |\n",
      "|  RegDate      | Date          |\n",
      "|  Compdate     | Date          |\n",
      "|  LastChgDat   | Date          |\n",
      "|  DecommDate   | Date          |\n",
      "|  LatDD        | Number        |\n",
      "|  LongDD       | Number        |\n",
      "|  CalcGPS      | Number        |\n",
      "|---------------+---------------|\n",
      "\n"
     ]
    }
   ],
   "source": [
    "print(wells)"
   ]
  },
  {
   "cell_type": "markdown",
   "metadata": {},
   "source": [
    "Since I'm going to find if a well is active during a given year, I wanted to find my min and max values for completion of those wells."
   ]
  },
  {
   "cell_type": "code",
   "execution_count": 4,
   "metadata": {
    "collapsed": false
   },
   "outputs": [],
   "source": [
    "oldest = wells.aggregate(agate.Min('Compdate'))"
   ]
  },
  {
   "cell_type": "code",
   "execution_count": 5,
   "metadata": {
    "collapsed": false
   },
   "outputs": [
    {
     "name": "stdout",
     "output_type": "stream",
     "text": [
      "1895-01-01\n"
     ]
    }
   ],
   "source": [
    "print(oldest)"
   ]
  },
  {
   "cell_type": "code",
   "execution_count": 6,
   "metadata": {
    "collapsed": true
   },
   "outputs": [],
   "source": [
    "newest = wells.aggregate(agate.Max('Compdate'))"
   ]
  },
  {
   "cell_type": "code",
   "execution_count": 7,
   "metadata": {
    "collapsed": false
   },
   "outputs": [
    {
     "name": "stdout",
     "output_type": "stream",
     "text": [
      "2016-02-25\n"
     ]
    }
   ],
   "source": [
    "print(newest)"
   ]
  },
  {
   "cell_type": "markdown",
   "metadata": {},
   "source": [
    "So this piece finds whether a well is active or not in a given year, and the code is a custom Python class that inherits various methods from agate.Computation class. Using a custom Computation class allows me to provide the function with multiple inputs as the typical agate.Formula() is limited to one. \n",
    "1. The __init__ function is a typical one for custom classes, which basically says start a new instance of this class with these variables. *_column_start* is when the well was completed, and *_column_end* is when the well was decomissioned. The final value *year* is the year that I want to check whether a well is active or not.\n",
    "2. The get_computed_data_type function tells agate that the returned value should be a Boolean aka True or False.\n",
    "3. The validate function tells agate that our input columns should be dates and throws an error if they aren't.\n",
    "4. Finally the run function does the actual computation, which is explained in the comments below."
   ]
  },
  {
   "cell_type": "code",
   "execution_count": 8,
   "metadata": {
    "collapsed": true
   },
   "outputs": [],
   "source": [
    "class ActiveWell(agate.Computation):\n",
    "    \"\"\"\n",
    "    Computes whether a well is active in a year\n",
    "    \"\"\"\n",
    "    def __init__(self, column_name_start, column_name_end, year):\n",
    "        self._column_start = column_name_start\n",
    "        self._column_end = column_name_end\n",
    "        self._year = year\n",
    "\n",
    "    def get_computed_data_type(self, table):\n",
    "        \"\"\"\n",
    "        The return value is a boolean.\n",
    "        \"\"\"\n",
    "        return agate.Boolean()\n",
    "\n",
    "    def validate(self, table):\n",
    "        \"\"\"\n",
    "        Verify the columns are dates.\n",
    "        \"\"\"\n",
    "        columnStart = table.columns[self._column_start]\n",
    "\n",
    "        if not isinstance(columnStart.data_type, agate.Date):\n",
    "            raise agate.DataTypeError('Can only be applied to date data.')\n",
    "            \n",
    "        columnEnd = table.columns[self._column_end]\n",
    "\n",
    "        if not isinstance(columnEnd.data_type, agate.Date):\n",
    "            raise agate.DataTypeError('Can only be applied to date data.')\n",
    "\n",
    "    def run(self, table):\n",
    "        new_column = []\n",
    "        \n",
    "        for row in table.rows:\n",
    "            #get the start value from the start column aka the year the well was constructed\n",
    "            start_val = row[self._column_start]\n",
    "            #some of the wells don't have constructed dates so I manually set the nulls at 1700\n",
    "            if start_val is not None:\n",
    "                start_year = start_val.year\n",
    "            else:\n",
    "                start_year = 1700\n",
    "            #same process with the deconstructed well date\n",
    "            end_val = row[self._column_end]\n",
    "            if end_val is not None:\n",
    "                end_year = end_val.year\n",
    "            else:\n",
    "                end_year = 5000\n",
    "            #if the well was constructed before this year and hasn't been deconstructed yet, return as an active well\n",
    "            if start_year < self._year < end_year:\n",
    "                status = True\n",
    "                new_column.append(status)\n",
    "            else:\n",
    "                status = False\n",
    "                new_column.append(status)\n",
    "        return new_column"
   ]
  },
  {
   "cell_type": "markdown",
   "metadata": {},
   "source": [
    "To check my ActiveWell class, I computed 2010 active wells. After filtering so only the active wells remain, I grouped by each count and then counted its active wells. Also, the total active wells helped me debug."
   ]
  },
  {
   "cell_type": "code",
   "execution_count": 9,
   "metadata": {
    "collapsed": false
   },
   "outputs": [
    {
     "name": "stdout",
     "output_type": "stream",
     "text": [
      "99011\n",
      "|-------------+--------|\n",
      "|  Countyname | count  |\n",
      "|-------------+--------|\n",
      "|  Kearney    | 2,331  |\n",
      "|  Sheridan   |   684  |\n",
      "|  Hall       | 4,517  |\n",
      "|  Dawson     | 4,080  |\n",
      "|  Morrill    |   999  |\n",
      "|  Adams      | 2,467  |\n",
      "|  Box Butte  | 1,309  |\n",
      "|  Keith      | 1,277  |\n",
      "|  Deuel      |   354  |\n",
      "|  Holt       | 3,200  |\n",
      "|  ...        |   ...  |\n",
      "|-------------+--------|\n"
     ]
    }
   ],
   "source": [
    "check_wells = wells.compute([\n",
    "    ('2010active', ActiveWell('Compdate', 'DecommDate', 2010))\n",
    "        ])\n",
    "active_wells = check_wells.where(lambda row: row['2010active'] == True)\n",
    "county_groups = active_wells.group_by('Countyname')\n",
    "well_counts = county_groups.aggregate([\n",
    "        ('count', agate.Count())\n",
    "    ])\n",
    "total = well_counts.aggregate(agate.Sum('count'))\n",
    "print(total)\n",
    "print_table = well_counts.select(['Countyname', 'count'])\n",
    "print_table.print_table(10)"
   ]
  },
  {
   "cell_type": "markdown",
   "metadata": {},
   "source": [
    "The years in the array were chosen due to the USDA ag census was conducted on those dates. Therefore, like the test 2010 analysis above, this program loops through each year in the array, finds the active wells in that year, groups by each count and counts the number of active wells. Finally, the counties' wells counts are outputted in a csv file."
   ]
  },
  {
   "cell_type": "code",
   "execution_count": 13,
   "metadata": {
    "collapsed": false
   },
   "outputs": [
    {
     "name": "stdout",
     "output_type": "stream",
     "text": [
      "Begin 1997 well analysis\n",
      "|---------------+--------|\n",
      "|  Countyname   | Wells  |\n",
      "|---------------+--------|\n",
      "|  Hall         | 4,323  |\n",
      "|  Thayer       | 1,454  |\n",
      "|  Scotts Bluff |   747  |\n",
      "|  Dawson       | 3,799  |\n",
      "|  Frontier     |   681  |\n",
      "|  Adams        | 2,179  |\n",
      "|  Box Butte    | 1,161  |\n",
      "|  Keith        | 1,066  |\n",
      "|  Deuel        |   329  |\n",
      "|  Holt         | 2,660  |\n",
      "|  ...          |   ...  |\n",
      "|---------------+--------|\n",
      "Total active wells in 1997 is 87188\n",
      "Begin 2002 well analysis\n",
      "|---------------+--------|\n",
      "|  Countyname   | Wells  |\n",
      "|---------------+--------|\n",
      "|  Hall         | 4,364  |\n",
      "|  Thayer       | 1,533  |\n",
      "|  Scotts Bluff |   786  |\n",
      "|  Dawson       | 3,850  |\n",
      "|  Adams        | 2,262  |\n",
      "|  Box Butte    | 1,198  |\n",
      "|  Keith        | 1,150  |\n",
      "|  Deuel        |   338  |\n",
      "|  Holt         | 2,779  |\n",
      "|  Saline       | 1,127  |\n",
      "|  ...          |   ...  |\n",
      "|---------------+--------|\n",
      "Total active wells in 2002 is 90660\n",
      "Begin 2007 well analysis\n",
      "|-------------+--------|\n",
      "|  Countyname | Wells  |\n",
      "|-------------+--------|\n",
      "|  Kearney    | 2,326  |\n",
      "|  Sheridan   |   678  |\n",
      "|  Hall       | 4,522  |\n",
      "|  Dawson     | 4,083  |\n",
      "|  Morrill    |   997  |\n",
      "|  Adams      | 2,427  |\n",
      "|  Box Butte  | 1,306  |\n",
      "|  Keith      | 1,265  |\n",
      "|  Deuel      |   355  |\n",
      "|  Holt       | 3,060  |\n",
      "|  ...        |   ...  |\n",
      "|-------------+--------|\n",
      "Total active wells in 2007 is 97566\n",
      "Begin 2012 well analysis\n",
      "|-------------+--------|\n",
      "|  Countyname | Wells  |\n",
      "|-------------+--------|\n",
      "|  Kearney    | 2,324  |\n",
      "|  Sheridan   |   682  |\n",
      "|  Hall       | 4,520  |\n",
      "|  Dawson     | 4,052  |\n",
      "|  Morrill    | 1,000  |\n",
      "|  Adams      | 2,516  |\n",
      "|  Box Butte  | 1,311  |\n",
      "|  Keith      | 1,279  |\n",
      "|  Deuel      |   353  |\n",
      "|  Holt       | 3,327  |\n",
      "|  ...        |   ...  |\n",
      "|-------------+--------|\n",
      "Total active wells in 2012 is 100019\n"
     ]
    }
   ],
   "source": [
    "years = [1997, 2002, 2007, 2012]\n",
    "for year in years:\n",
    "    print(\"Begin {0} well analysis\".format(year))\n",
    "    year_category = '{0}active'.format(year)\n",
    "    count_category = 'count{0}'.format(year)\n",
    "    check_wells = wells.compute([\n",
    "            (year_category, ActiveWell('Compdate', 'DecommDate', year))\n",
    "        ])\n",
    "    \n",
    "    active_wells = check_wells.where(lambda row: row[year_category] == True)\n",
    "    county_groups = active_wells.group_by('Countyname')\n",
    "    well_counts = county_groups.aggregate([\n",
    "        ('Wells', agate.Count())\n",
    "    ])\n",
    "    print_table = well_counts.select(['Countyname', 'Wells'])\n",
    "    print_table.print_table(10)\n",
    "    total = well_counts.aggregate(agate.Sum('Wells'))\n",
    "    print(\"Total active wells in {0} is {1}\".format(year, total))\n",
    "    well_counts.to_csv('wells{0}.csv'.format(year))"
   ]
  },
  {
   "cell_type": "code",
   "execution_count": null,
   "metadata": {
    "collapsed": true
   },
   "outputs": [],
   "source": []
  }
 ],
 "metadata": {
  "kernelspec": {
   "display_name": "Python 3",
   "language": "python",
   "name": "python3"
  },
  "language_info": {
   "codemirror_mode": {
    "name": "ipython",
    "version": 3
   },
   "file_extension": ".py",
   "mimetype": "text/x-python",
   "name": "python",
   "nbconvert_exporter": "python",
   "pygments_lexer": "ipython3",
   "version": "3.5.1"
  }
 },
 "nbformat": 4,
 "nbformat_minor": 0
}
