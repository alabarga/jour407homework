{
 "cells": [
  {
   "cell_type": "markdown",
   "metadata": {},
   "source": [
    "Import agate, a Python-based data analysis library"
   ]
  },
  {
   "cell_type": "code",
   "execution_count": 86,
   "metadata": {
    "collapsed": false
   },
   "outputs": [],
   "source": [
    "import agate"
   ]
  },
  {
   "cell_type": "markdown",
   "metadata": {},
   "source": [
    "Create agate Table of csv file from Nebraska registered voters data from 2000 to 2014"
   ]
  },
  {
   "cell_type": "code",
   "execution_count": 87,
   "metadata": {
    "collapsed": false
   },
   "outputs": [],
   "source": [
    "parties = agate.Table.from_csv('CleanPoliticalData.csv')"
   ]
  },
  {
   "cell_type": "markdown",
   "metadata": {},
   "source": [
    "Check out column names & types from parties table"
   ]
  },
  {
   "cell_type": "code",
   "execution_count": 88,
   "metadata": {
    "collapsed": false
   },
   "outputs": [
    {
     "name": "stdout",
     "output_type": "stream",
     "text": [
      "|---------------+---------------|\n",
      "|  column_names | column_types  |\n",
      "|---------------+---------------|\n",
      "|  County Name  | Text          |\n",
      "|  FIPS Code    | Number        |\n",
      "|  Total2014    | Number        |\n",
      "|  Total2012    | Number        |\n",
      "|  Total2010    | Number        |\n",
      "|  Total2008    | Number        |\n",
      "|  Total2006    | Number        |\n",
      "|  Total2004    | Number        |\n",
      "|  Total2002    | Number        |\n",
      "|  Total2000    | Number        |\n",
      "|  NP2014       | Number        |\n",
      "|  NP2012       | Number        |\n",
      "|  NP2010       | Number        |\n",
      "|  NP2008       | Number        |\n",
      "|  NP2006       | Number        |\n",
      "|  NP2004       | Number        |\n",
      "|  NP2002       | Number        |\n",
      "|  NP2000       | Number        |\n",
      "|  GOP2014      | Number        |\n",
      "|  GOP2012      | Number        |\n",
      "|  GOP2010      | Number        |\n",
      "|  GOP2008      | Number        |\n",
      "|  GOP2006      | Number        |\n",
      "|  GOP2004      | Number        |\n",
      "|  GOP2002      | Number        |\n",
      "|  GOP2000      | Number        |\n",
      "|  Dem2014      | Number        |\n",
      "|  Dem2012      | Number        |\n",
      "|  Dem2010      | Number        |\n",
      "|  Dem2008      | Number        |\n",
      "|  Dem2006      | Number        |\n",
      "|  Dem2004      | Number        |\n",
      "|  Dem2002      | Number        |\n",
      "|  Dem2000      | Number        |\n",
      "|---------------+---------------|\n",
      "\n"
     ]
    }
   ],
   "source": [
    "print(parties)"
   ]
  },
  {
   "cell_type": "markdown",
   "metadata": {},
   "source": [
    "Let's see some stats about Nebraska political party distributions and calculate when the independent party would overtake the Democratic Party, given the growth rates continue."
   ]
  },
  {
   "cell_type": "markdown",
   "metadata": {},
   "source": [
    "Grab the total row form the parties table"
   ]
  },
  {
   "cell_type": "code",
   "execution_count": 26,
   "metadata": {
    "collapsed": false
   },
   "outputs": [
    {
     "name": "stdout",
     "output_type": "stream",
     "text": [
      "1\n"
     ]
    }
   ],
   "source": [
    "totalRow = parties.where(lambda row: row['County Name'] == 'Total State')\n",
    "print(len(totalRow.rows))"
   ]
  },
  {
   "cell_type": "markdown",
   "metadata": {},
   "source": [
    "Calculate the percent of each party in 2000"
   ]
  },
  {
   "cell_type": "code",
   "execution_count": 61,
   "metadata": {
    "collapsed": true
   },
   "outputs": [],
   "source": [
    "def calculateNP00(row):\n",
    "    return row['NP2000'] / row['Total2000']\n",
    "def calculateDem00(row):\n",
    "    return row['Dem2000'] / row['Total2000']\n",
    "def calculateGOP00(row):\n",
    "    return row['GOP2000'] / row['Total2000']"
   ]
  },
  {
   "cell_type": "code",
   "execution_count": 62,
   "metadata": {
    "collapsed": false
   },
   "outputs": [],
   "source": [
    "distributions00 = totalRow.compute([\n",
    "        ('nonparty_distribution2000', agate.Formula(agate.Number(), calculateNP00)),\n",
    "        ('demparty_distribution2000', agate.Formula(agate.Number(), calculateDem00)),\n",
    "        ('gopparty_distribution2000', agate.Formula(agate.Number(), calculateGOP00)),\n",
    "    ])"
   ]
  },
  {
   "cell_type": "markdown",
   "metadata": {},
   "source": [
    "View each party's percent in 2000"
   ]
  },
  {
   "cell_type": "code",
   "execution_count": 64,
   "metadata": {
    "collapsed": false
   },
   "outputs": [
    {
     "name": "stdout",
     "output_type": "stream",
     "text": [
      "|----------------------------+---------------------------+----------------------------|\n",
      "|  nonparty_distribution2000 | demparty_distribution2000 | gopparty_distribution2000  |\n",
      "|----------------------------+---------------------------+----------------------------|\n",
      "|       0.141066717532069... |      0.361535066258637... |      0.495389401382396...  |\n",
      "|----------------------------+---------------------------+----------------------------|\n"
     ]
    }
   ],
   "source": [
    "printDistribution00 = distributions00.select(['nonparty_distribution2000', 'demparty_distribution2000', 'gopparty_distribution2000'])\n",
    "printDistribution00.print_table()"
   ]
  },
  {
   "cell_type": "markdown",
   "metadata": {},
   "source": [
    "Calculate the percent of each party in 2014"
   ]
  },
  {
   "cell_type": "code",
   "execution_count": 65,
   "metadata": {
    "collapsed": true
   },
   "outputs": [],
   "source": [
    "def calculateNP14(row):\n",
    "    return row['NP2014'] / row['Total2014']\n",
    "def calculateDem14(row):\n",
    "    return row['Dem2014'] / row['Total2014']\n",
    "def calculateGOP14(row):\n",
    "    return row['GOP2014'] / row['Total2014']"
   ]
  },
  {
   "cell_type": "code",
   "execution_count": 66,
   "metadata": {
    "collapsed": false
   },
   "outputs": [],
   "source": [
    "distributions14 = totalRow.compute([\n",
    "        ('nonparty_distribution2014', agate.Formula(agate.Number(), calculateNP14)),\n",
    "        ('demparty_distribution2014', agate.Formula(agate.Number(), calculateDem14)),\n",
    "        ('gopparty_distribution2014', agate.Formula(agate.Number(), calculateGOP14)),\n",
    "    ])"
   ]
  },
  {
   "cell_type": "markdown",
   "metadata": {},
   "source": [
    "View each party's percent in 2014"
   ]
  },
  {
   "cell_type": "code",
   "execution_count": 69,
   "metadata": {
    "collapsed": false
   },
   "outputs": [
    {
     "name": "stdout",
     "output_type": "stream",
     "text": [
      "|----------------------------+---------------------------+----------------------------|\n",
      "|  nonparty_distribution2014 | demparty_distribution2014 | gopparty_distribution2014  |\n",
      "|----------------------------+---------------------------+----------------------------|\n",
      "|       0.203584619101860... |      0.308787235511373... |      0.482693037865451...  |\n",
      "|----------------------------+---------------------------+----------------------------|\n"
     ]
    }
   ],
   "source": [
    "printDistribution14 = distributions14.select(['nonparty_distribution2014', 'demparty_distribution2014', 'gopparty_distribution2014'])\n",
    "printDistribution14.print_table()"
   ]
  },
  {
   "cell_type": "markdown",
   "metadata": {},
   "source": [
    "Calculate how long until the independent party overtakes the Democratic party. Using the Investigative Reporters & Editors' Number in the Newsrooms, I took the average of the last three election years other than the last. Then, I divided the last year by that average. That percent change was taken to the third power, which computes the percent growth in three election cycles or 6 years. Finally, the last year is multiplied by this growth value to find the estimated party numbers 6 years from 2014 or 2020. "
   ]
  },
  {
   "cell_type": "code",
   "execution_count": 79,
   "metadata": {
    "collapsed": true
   },
   "outputs": [],
   "source": [
    "def futureNP(row):\n",
    "    average = (row['NP2012'] + row['NP2010'] + row['NP2008'])/3\n",
    "    percentChange = row['NP2014'] / average\n",
    "    change3elections = percentChange ** 3\n",
    "    futureValue = row['NP2014'] * change3elections\n",
    "    return futureValue\n",
    "def futureDem(row):\n",
    "    average = (row['Dem2012'] + row['Dem2010'] + row['Dem2008'])/3\n",
    "    percentChange = row['Dem2014'] / average\n",
    "    change3elections = percentChange ** 3\n",
    "    futureValue = row['Dem2014'] * change3elections\n",
    "    return futureValue\n",
    "def futureGOP(row):\n",
    "    average = (row['GOP2012'] + row['GOP2010'] + row['GOP2008'])/3\n",
    "    percentChange = row['GOP2014'] / average\n",
    "    change3elections = percentChange ** 3\n",
    "    futureValue = row['GOP2014'] * change3elections\n",
    "    return futureValue\n"
   ]
  },
  {
   "cell_type": "code",
   "execution_count": 83,
   "metadata": {
    "collapsed": false
   },
   "outputs": [],
   "source": [
    "future = totalRow.compute([\n",
    "        ('futureNP', agate.Formula(agate.Number(), futureNP)),\n",
    "        ('futureDem', agate.Formula(agate.Number(), futureDem)),\n",
    "        ('futureGOP', agate.Formula(agate.Number(), futureGOP)),\n",
    "    ])"
   ]
  },
  {
   "cell_type": "markdown",
   "metadata": {},
   "source": [
    "Given the same growth/decline rates, the parties will have the following estimated registered voters in 2020."
   ]
  },
  {
   "cell_type": "code",
   "execution_count": 85,
   "metadata": {
    "collapsed": false
   },
   "outputs": [
    {
     "name": "stdout",
     "output_type": "stream",
     "text": [
      "|-----------------------+----------------------+-----------------------|\n",
      "|              futureNP |            futureDem |            futureGOP  |\n",
      "|-----------------------+----------------------+-----------------------|\n",
      "|  339,788.401958366... | 297,350.726469258... | 583,439.493192371...  |\n",
      "|-----------------------+----------------------+-----------------------|\n"
     ]
    }
   ],
   "source": [
    "printfuture = future.select(['futureNP', 'futureDem', 'futureGOP'])\n",
    "printfuture.print_table()"
   ]
  },
  {
   "cell_type": "markdown",
   "metadata": {},
   "source": [
    "Let's compute percent change from 2010 to 2014"
   ]
  },
  {
   "cell_type": "code",
   "execution_count": 17,
   "metadata": {
    "collapsed": false
   },
   "outputs": [],
   "source": [
    "changes0014 = parties.compute([\n",
    "        ('total_change', agate.PercentChange('Total2000', 'Total2014')),\n",
    "        ('nonparty_change', agate.PercentChange('NP2000', 'NP2014')),\n",
    "        ('gopparty_change', agate.PercentChange('GOP2000', 'GOP2014')),\n",
    "        ('demparty_change', agate.PercentChange('Dem2000', 'Dem2014')),\n",
    "    ])"
   ]
  },
  {
   "cell_type": "markdown",
   "metadata": {},
   "source": [
    "Lets round those values to one decimal place"
   ]
  },
  {
   "cell_type": "code",
   "execution_count": 18,
   "metadata": {
    "collapsed": false
   },
   "outputs": [],
   "source": [
    "from decimal import Decimal\n",
    "\n",
    "def round_total_change(row):\n",
    "    return row['total_change'].quantize(Decimal('0.1'))\n",
    "\n",
    "def round_nonparty_change(row):\n",
    "    return row['nonparty_change'].quantize(Decimal('0.1'))\n",
    "\n",
    "def round_gopparty_change(row):\n",
    "    return row['gopparty_change'].quantize(Decimal('0.1'))\n",
    "\n",
    "def round_demparty_change(row):\n",
    "    return row['demparty_change'].quantize(Decimal('0.1'))\n",
    "\n",
    "rounded_changes = changes0014.compute([\n",
    "    ('total_change_round', agate.Formula(agate.Number(), round_total_change)),\n",
    "    ('nonparty_change_round', agate.Formula(agate.Number(), round_nonparty_change)),\n",
    "    ('gopparty_change_round', agate.Formula(agate.Number(), round_gopparty_change)),\n",
    "    ('demparty_change_round', agate.Formula(agate.Number(), round_demparty_change)),\n",
    "])"
   ]
  },
  {
   "cell_type": "markdown",
   "metadata": {},
   "source": [
    "Ugh it's ugly lets see only the fields we need"
   ]
  },
  {
   "cell_type": "code",
   "execution_count": 19,
   "metadata": {
    "collapsed": false
   },
   "outputs": [],
   "source": [
    "for_printing = rounded_changes.select(['County Name', 'total_change_round', 'nonparty_change_round', 'gopparty_change_round', 'demparty_change_round'])"
   ]
  },
  {
   "cell_type": "markdown",
   "metadata": {},
   "source": [
    "Sort the table so largest growing to smallest"
   ]
  },
  {
   "cell_type": "code",
   "execution_count": 20,
   "metadata": {
    "collapsed": true
   },
   "outputs": [],
   "source": [
    "sorted_change = for_printing.order_by('nonparty_change_round', reverse=True)"
   ]
  },
  {
   "cell_type": "markdown",
   "metadata": {},
   "source": [
    "Print top 50 highest growing populations"
   ]
  },
  {
   "cell_type": "code",
   "execution_count": 21,
   "metadata": {
    "collapsed": false
   },
   "outputs": [
    {
     "name": "stdout",
     "output_type": "stream",
     "text": [
      "|---------------+--------------------+-----------------------+-----------------------+------------------------|\n",
      "|  County Name  | total_change_round | nonparty_change_round | gopparty_change_round | demparty_change_round  |\n",
      "|---------------+--------------------+-----------------------+-----------------------+------------------------|\n",
      "|  MCPHERSON    |               -7.0 |                 228.6 |                  -2.4 |                 -41.8  |\n",
      "|  SARPY        |               42.6 |                 107.8 |                  34.9 |                  17.4  |\n",
      "|  HOOKER       |               -8.4 |                  82.8 |                 -10.7 |                 -21.6  |\n",
      "|  KIMBALL      |                7.2 |                  81.6 |                   6.6 |                 -23.7  |\n",
      "|  THURSTON     |               10.8 |                  75.8 |                  -9.1 |                  12.2  |\n",
      "|  HAYES        |               -6.7 |                  72.3 |                  -4.7 |                 -39.1  |\n",
      "|  THOMAS       |              -16.2 |                  67.7 |                 -11.6 |                 -54.5  |\n",
      "|  DOUGLAS      |               13.9 |                  66.4 |                   2.3 |                   4.5  |\n",
      "|  PIERCE       |               -4.3 |                  66.1 |                   1.4 |                 -40.5  |\n",
      "|  CHEYENNE     |                3.7 |                  66.0 |                   5.1 |                 -28.4  |\n",
      "|  DAWSON       |                7.4 |                  63.2 |                   2.2 |                  -5.2  |\n",
      "|  LANCASTER    |               15.5 |                  58.4 |                  10.2 |                   3.3  |\n",
      "|  GREELEY      |              -13.9 |                  56.7 |                  -9.5 |                 -22.6  |\n",
      "|  DAKOTA       |               13.8 |                  55.8 |                  -0.7 |                   8.9  |\n",
      "|  CHERRY       |               -3.5 |                  54.2 |                   2.6 |                 -38.7  |\n",
      "|  Total State  |                6.8 |                  54.1 |                   4.0 |                  -8.8  |\n",
      "|  THAYER       |               -8.7 |                  54.0 |                  -4.5 |                 -33.8  |\n",
      "|  HARLAN       |               -6.6 |                  53.4 |                   0.2 |                 -33.5  |\n",
      "|  OTOE         |               -0.2 |                  52.9 |                  -2.8 |                 -18.8  |\n",
      "|  DUNDY        |               -9.9 |                  52.4 |                  -3.3 |                 -48.8  |\n",
      "|  WASHINGTON   |                9.6 |                  51.3 |                   8.1 |                  -9.8  |\n",
      "|  HITCHCOCK    |               -5.8 |                  50.9 |                  -0.9 |                 -37.1  |\n",
      "|  DAWES        |                6.4 |                  50.0 |                   0.9 |                  -5.4  |\n",
      "|  SAUNDERS     |                5.4 |                  49.9 |                  24.5 |                 -27.9  |\n",
      "|  ANTELOPE     |               -4.7 |                  46.2 |                   4.5 |                 -36.5  |\n",
      "|  LINCOLN      |               -1.4 |                  45.8 |                   6.9 |                 -28.5  |\n",
      "|  LOGAN        |               -1.9 |                  45.2 |                  -3.5 |                 -17.2  |\n",
      "|  CUMING       |              -12.4 |                  44.7 |                 -12.8 |                 -29.6  |\n",
      "|  GARFIELD     |               -9.8 |                  44.4 |                  -6.7 |                 -33.1  |\n",
      "|  DODGE        |                0.0 |                  44.2 |                  -1.0 |                 -17.0  |\n",
      "|  SALINE       |               -6.6 |                  43.3 |                  -0.3 |                 -22.5  |\n",
      "|  MADISON      |               -1.0 |                  43.0 |                  -4.3 |                 -14.3  |\n",
      "|  NANCE        |              -10.2 |                  42.6 |                   4.8 |                 -34.0  |\n",
      "|  SCOTTS BLUFF |                1.5 |                  42.4 |                   2.1 |                 -18.4  |\n",
      "|  PLATTE       |                0.7 |                  42.3 |                  10.6 |                 -27.8  |\n",
      "|  HOWARD       |               -4.7 |                  41.6 |                   5.8 |                 -27.2  |\n",
      "|  CASS         |                3.2 |                  40.7 |                   5.5 |                 -18.5  |\n",
      "|  BUFFALO      |                4.9 |                  40.5 |                   8.0 |                 -19.8  |\n",
      "|  CEDAR        |               -5.3 |                  40.4 |                  19.5 |                 -39.4  |\n",
      "|  YORK         |               -3.4 |                  39.8 |                  -3.9 |                 -22.0  |\n",
      "|  STANTON      |               -8.9 |                  39.3 |                 -12.8 |                 -18.0  |\n",
      "|  FRONTIER     |               -8.7 |                  36.9 |                  -8.2 |                 -27.9  |\n",
      "|  BLAINE       |              -13.2 |                  36.4 |                 -10.2 |                 -40.8  |\n",
      "|  HALL         |                1.9 |                  35.8 |                  -0.3 |                 -11.2  |\n",
      "|  FRANKLIN     |              -12.0 |                  35.6 |                  -8.6 |                 -34.4  |\n",
      "|  SHERIDAN     |              -10.7 |                  35.4 |                 -10.7 |                 -31.0  |\n",
      "|  NUCKOLLS     |              -15.2 |                  34.9 |                  -5.4 |                 -39.0  |\n",
      "|  PAWNEE       |              -11.6 |                  34.2 |                  -3.3 |                 -34.9  |\n",
      "|  NEMAHA       |              -10.1 |                  32.3 |                  -8.7 |                 -26.6  |\n",
      "|  RICHARDSON   |              -11.7 |                  31.5 |                  -9.8 |                 -26.2  |\n",
      "|  FILLMORE     |               -9.8 |                  31.0 |                  -4.5 |                 -30.5  |\n",
      "|  KEITH        |                2.8 |                  31.0 |                   7.3 |                 -24.9  |\n",
      "|  CHASE        |              -11.3 |                  30.8 |                   1.5 |                 -50.4  |\n",
      "|  ADAMS        |               -3.4 |                  29.3 |                  -1.4 |                 -20.4  |\n",
      "|  COLFAX       |               -8.5 |                  29.2 |                  -7.4 |                 -17.4  |\n",
      "|  HAMILTON     |                0.4 |                  28.3 |                   4.7 |                 -23.0  |\n",
      "|  SEWARD       |                1.5 |                  27.0 |                  10.8 |                 -22.2  |\n",
      "|  CUSTER       |               -8.3 |                  26.8 |                  -5.3 |                 -30.5  |\n",
      "|  MERRICK      |              -14.2 |                  26.2 |                  -7.8 |                 -38.9  |\n",
      "|  KNOX         |               -6.7 |                  26.1 |                   2.9 |                 -28.7  |\n",
      "|  GRANT        |               -7.3 |                  25.0 |                  -1.0 |                 -45.7  |\n",
      "|  JEFFERSON    |              -13.0 |                  24.1 |                 -12.7 |                 -27.1  |\n",
      "|  BANNER       |               -6.5 |                  23.3 |                  -0.7 |                 -57.1  |\n",
      "|  PHELPS       |              -12.4 |                  22.8 |                  -7.3 |                 -38.5  |\n",
      "|  KEARNEY      |               -6.0 |                  22.4 |                   1.1 |                 -32.0  |\n",
      "|  GAGE         |              -11.0 |                  20.6 |                  -8.9 |                 -26.4  |\n",
      "|  KEYA PAHA    |              -20.0 |                  20.6 |                 -10.6 |                 -55.8  |\n",
      "|  RED WILLOW   |               -9.5 |                  20.4 |                  -3.3 |                 -38.8  |\n",
      "|  GOSPER       |               -3.6 |                  19.4 |                   7.5 |                 -37.2  |\n",
      "|  BURT         |              -13.9 |                  17.0 |                 -14.7 |                 -24.5  |\n",
      "|  WHEELER      |                6.7 |                  14.9 |                  27.2 |                 -32.4  |\n",
      "|  MORRILL      |              -12.1 |                  14.1 |                  -9.3 |                 -33.4  |\n",
      "|  POLK         |              -10.9 |                  12.7 |                  -3.3 |                 -34.2  |\n",
      "|  DEUEL        |               -2.3 |                  12.6 |                   1.2 |                 -27.7  |\n",
      "|  CLAY         |              -13.2 |                  11.8 |                  -7.2 |                 -36.3  |\n",
      "|  FURNAS       |              -16.7 |                  11.6 |                 -10.6 |                 -41.8  |\n",
      "|  PERKINS      |              -10.2 |                  11.6 |                   4.2 |                 -45.9  |\n",
      "|  VALLEY       |              -13.6 |                   9.5 |                  -9.0 |                 -28.3  |\n",
      "|  WEBSTER      |              -13.0 |                   7.9 |                  -5.4 |                 -33.2  |\n",
      "|  JOHNSON      |              -20.3 |                   4.5 |                 -10.5 |                 -38.8  |\n",
      "|  DIXON        |               -9.1 |                   2.7 |                   4.7 |                 -33.5  |\n",
      "|  BOX BUTTE    |              -17.7 |                   2.2 |                 -11.3 |                 -36.3  |\n",
      "|  BOONE        |               -8.8 |                   1.8 |                   1.6 |                 -28.9  |\n",
      "|  ROCK         |              -13.3 |                   0.0 |                  -5.4 |                 -46.4  |\n",
      "|  GARDEN       |              -15.6 |                  -1.3 |                 -14.0 |                 -29.5  |\n",
      "|  BOYD         |              -22.0 |                  -3.0 |                 -11.2 |                 -50.7  |\n",
      "|  SHERMAN      |              -17.0 |                  -3.3 |                  -3.6 |                 -29.7  |\n",
      "|  BUTLER       |              -10.5 |                  -4.3 |                  21.9 |                 -39.9  |\n",
      "|  LOUP         |               -1.7 |                  -6.2 |                  14.6 |                 -49.6  |\n",
      "|  HOLT         |              -14.2 |                  -7.6 |                  -1.8 |                 -45.4  |\n",
      "|  BROWN        |              -12.0 |                 -13.8 |                  -5.4 |                 -35.9  |\n",
      "|  SIOUX        |              -15.6 |                 -16.0 |                  -7.0 |                 -48.8  |\n",
      "|  WAYNE        |              -20.8 |                 -19.7 |                 -14.3 |                 -37.0  |\n",
      "|  ARTHUR       |               -2.4 |                 -35.3 |                   9.2 |                 -36.9  |\n",
      "|---------------+--------------------+-----------------------+-----------------------+------------------------|\n"
     ]
    }
   ],
   "source": [
    "sorted_change.print_table()"
   ]
  },
  {
   "cell_type": "code",
   "execution_count": 23,
   "metadata": {
    "collapsed": true
   },
   "outputs": [],
   "source": [
    "sorted_change.to_csv('neb-county-political.csv')"
   ]
  }
 ],
 "metadata": {
  "kernelspec": {
   "display_name": "Python 3",
   "language": "python",
   "name": "python3"
  },
  "language_info": {
   "codemirror_mode": {
    "name": "ipython",
    "version": 3
   },
   "file_extension": ".py",
   "mimetype": "text/x-python",
   "name": "python",
   "nbconvert_exporter": "python",
   "pygments_lexer": "ipython3",
   "version": "3.5.1"
  }
 },
 "nbformat": 4,
 "nbformat_minor": 0
}
