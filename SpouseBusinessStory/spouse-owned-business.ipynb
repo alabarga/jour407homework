{
 "cells": [
  {
   "cell_type": "code",
   "execution_count": 1,
   "metadata": {
    "collapsed": true
   },
   "outputs": [],
   "source": [
    "import agate"
   ]
  },
  {
   "cell_type": "code",
   "execution_count": 2,
   "metadata": {
    "collapsed": true
   },
   "outputs": [],
   "source": [
    "text = agate.Text()\n",
    "business_07 = agate.Table.from_csv('SBO_2007/SBO_2007.csv')"
   ]
  },
  {
   "cell_type": "code",
   "execution_count": 6,
   "metadata": {
    "collapsed": false
   },
   "outputs": [
    {
     "name": "stdout",
     "output_type": "stream",
     "text": [
      "|-------------------+---------------|\n",
      "|  column_names     | column_types  |\n",
      "|-------------------+---------------|\n",
      "|  Industry_07      | Text          |\n",
      "|  MainOperator_07  | Text          |\n",
      "|  Year             | Number        |\n",
      "|  FIRMALL_07       | Number        |\n",
      "|  FIRMALL_PCT_07   | Number        |\n",
      "|  FIRMALL_S_07     | Number        |\n",
      "|  FIRMALL_PCT_S_07 | Number        |\n",
      "|-------------------+---------------|\n",
      "\n",
      "|-----------------------+----------------------+-------+------------+----------------+--------------+-------------------|\n",
      "|  Industry_07          | MainOperator_07      |  Year | FIRMALL_07 | FIRMALL_PCT_07 | FIRMALL_S_07 | FIRMALL_PCT_S_07  |\n",
      "|-----------------------+----------------------+-------+------------+----------------+--------------+-------------------|\n",
      "|  Total for all sec... | All firms            | 2,007 |  4,602,192 |                |            0 |                   |\n",
      "|  Total for all sec... | Jointly owned and... | 2,007 |  1,200,010 |           45.0 |            0 |              0.2  |\n",
      "|  Total for all sec... | Jointly owned but... | 2,007 |    935,633 |           35.1 |            1 |              0.2  |\n",
      "|  Total for all sec... | Jointly owned but... | 2,007 |    310,194 |           11.6 |            1 |              0.1  |\n",
      "|  Total for all sec... | Not jointly owned... | 2,007 |    222,059 |            8.3 |            2 |              0.1  |\n",
      "|  Total for all sec... | Total reporting      | 2,007 |  2,667,896 |          100.0 |            0 |              0.0  |\n",
      "|  Total for all sec... | Item not reported    | 2,007 |     21,621 |                |            5 |                   |\n",
      "|  Total for all sec... | Complete nonresponse | 2,007 |  1,912,675 |                |            0 |                   |\n",
      "|  Agriculture, fore... | All firms            | 2,007 |     67,458 |                |            3 |                   |\n",
      "|  Agriculture, fore... | Jointly owned and... | 2,007 |     14,872 |           41.8 |            7 |              1.1  |\n",
      "|  ...                  | ...                  |   ... |        ... |            ... |          ... |              ...  |\n",
      "|-----------------------+----------------------+-------+------------+----------------+--------------+-------------------|\n"
     ]
    }
   ],
   "source": [
    "print(business_07)\n",
    "business_07.print_table(10)"
   ]
  },
  {
   "cell_type": "code",
   "execution_count": 48,
   "metadata": {
    "collapsed": false
   },
   "outputs": [],
   "source": [
    "industry_ratios_07 = business_07.where(lambda row: row['MainOperator_07'] == 'Jointly owned and equally operated by a husband and wife').select([\n",
    "        'Industry_07', 'FIRMALL_PCT_07'\n",
    "    ]).order_by('FIRMALL_PCT_07', reverse=True)"
   ]
  },
  {
   "cell_type": "code",
   "execution_count": 49,
   "metadata": {
    "collapsed": false
   },
   "outputs": [
    {
     "name": "stdout",
     "output_type": "stream",
     "text": [
      "20\n"
     ]
    }
   ],
   "source": [
    "print(len(industry_ratios_07.rows))"
   ]
  },
  {
   "cell_type": "code",
   "execution_count": 50,
   "metadata": {
    "collapsed": false
   },
   "outputs": [
    {
     "name": "stdout",
     "output_type": "stream",
     "text": [
      "|-----------------------------------------------------+-----------------|\n",
      "|  Industry_07                                        | FIRMALL_PCT_07  |\n",
      "|-----------------------------------------------------+-----------------|\n",
      "|  Accommodation and food services                    |           60.7  |\n",
      "|  Utilities                                          |           51.0  |\n",
      "|  Retail trade                                       |           48.8  |\n",
      "|  Real estate and rental and leasing                 |           48.8  |\n",
      "|  Educational services                               |           47.2  |\n",
      "|  Transportation and warehousing                     |           47.1  |\n",
      "|  Wholesale trade                                    |           47.0  |\n",
      "|  Mining, quarrying, and oil and gas extraction      |           46.8  |\n",
      "|  Management of companies and enterprises            |           46.5  |\n",
      "|  Administrative and support and waste management... |           46.5  |\n",
      "|  Arts, entertainment, and recreation                |           46.5  |\n",
      "|  Manufacturing                                      |           46.0  |\n",
      "|  Total for all sectors                              |           45.0  |\n",
      "|  Information                                        |           43.2  |\n",
      "|  Finance and insurance                              |           42.2  |\n",
      "|  Other services (except public administration)      |           42.0  |\n",
      "|  Agriculture, forestry, fishing and hunting         |           41.8  |\n",
      "|  Construction                                       |           40.2  |\n",
      "|  Health care and social assistance                  |           39.7  |\n",
      "|  Professional, scientific, and technical services   |           39.1  |\n",
      "|-----------------------------------------------------+-----------------|\n"
     ]
    }
   ],
   "source": [
    "industry_ratios_07.print_table(max_column_width=50)"
   ]
  },
  {
   "cell_type": "code",
   "execution_count": 46,
   "metadata": {
    "collapsed": true
   },
   "outputs": [],
   "source": [
    "business_12 = agate.Table.from_csv('SBO_2012/SBO_2012.csv')"
   ]
  },
  {
   "cell_type": "code",
   "execution_count": 47,
   "metadata": {
    "collapsed": false
   },
   "outputs": [
    {
     "name": "stdout",
     "output_type": "stream",
     "text": [
      "|-------------------+---------------|\n",
      "|  column_names     | column_types  |\n",
      "|-------------------+---------------|\n",
      "|  Industry_12      | Text          |\n",
      "|  MainOperator_12  | Text          |\n",
      "|  Year             | Number        |\n",
      "|  FIRMALL_12       | Number        |\n",
      "|  FIRMALL_PCT_12   | Number        |\n",
      "|  FIRMALL_S_12     | Number        |\n",
      "|  FIRMALL_PCT_S_12 | Number        |\n",
      "|-------------------+---------------|\n",
      "\n"
     ]
    }
   ],
   "source": [
    "print(business_12)"
   ]
  },
  {
   "cell_type": "code",
   "execution_count": 53,
   "metadata": {
    "collapsed": true
   },
   "outputs": [],
   "source": [
    "industry_ratios_12 = business_12.where(lambda row: row['MainOperator_12'] == 'Jointly owned and equally operated by spouses').select([\n",
    "        'Industry_12', 'FIRMALL_PCT_12'\n",
    "    ]).order_by('FIRMALL_PCT_12', reverse=True)"
   ]
  },
  {
   "cell_type": "code",
   "execution_count": 54,
   "metadata": {
    "collapsed": false
   },
   "outputs": [
    {
     "name": "stdout",
     "output_type": "stream",
     "text": [
      "20\n"
     ]
    }
   ],
   "source": [
    "print(len(industry_ratios_12.rows))"
   ]
  },
  {
   "cell_type": "code",
   "execution_count": 55,
   "metadata": {
    "collapsed": false
   },
   "outputs": [
    {
     "name": "stdout",
     "output_type": "stream",
     "text": [
      "|-----------------------------------------------------+-----------------|\n",
      "|  Industry_12                                        | FIRMALL_PCT_12  |\n",
      "|-----------------------------------------------------+-----------------|\n",
      "|  Accommodation and food services                    |           61.9  |\n",
      "|  Arts, entertainment, and recreation                |           52.4  |\n",
      "|  Real estate and rental and leasing                 |           52.0  |\n",
      "|  Educational services                               |           49.5  |\n",
      "|  Retail trade                                       |           49.2  |\n",
      "|  Manufacturing                                      |           48.5  |\n",
      "|  Health care and social assistance                  |           47.6  |\n",
      "|  Administrative and support and waste management... |           47.5  |\n",
      "|  Total for all sectors                              |           46.9  |\n",
      "|  Information                                        |           46.1  |\n",
      "|  Wholesale trade                                    |           44.8  |\n",
      "|  Transportation and warehousing                     |           43.7  |\n",
      "|  Management of companies and enterprises            |           43.6  |\n",
      "|  Mining, quarrying, and oil and gas extraction      |           42.4  |\n",
      "|  Agriculture, forestry, fishing and hunting         |           42.3  |\n",
      "|  Other services (except public administration)      |           42.2  |\n",
      "|  Professional, scientific, and technical services   |           42.0  |\n",
      "|  Finance and insurance                              |           40.5  |\n",
      "|  Utilities                                          |           38.4  |\n",
      "|  Construction                                       |           38.0  |\n",
      "|-----------------------------------------------------+-----------------|\n"
     ]
    }
   ],
   "source": [
    "industry_ratios_12.print_table(max_column_width=50)"
   ]
  },
  {
   "cell_type": "code",
   "execution_count": 58,
   "metadata": {
    "collapsed": true
   },
   "outputs": [],
   "source": [
    "industry_ratios_0712 = industry_ratios_07.join(industry_ratios_12,  'Industry_07', 'Industry_12', inner=True)"
   ]
  },
  {
   "cell_type": "code",
   "execution_count": 59,
   "metadata": {
    "collapsed": false
   },
   "outputs": [
    {
     "name": "stdout",
     "output_type": "stream",
     "text": [
      "|-----------------------+----------------+-----------------|\n",
      "|  Industry_07          | FIRMALL_PCT_07 | FIRMALL_PCT_12  |\n",
      "|-----------------------+----------------+-----------------|\n",
      "|  Accommodation and... |           60.7 |           61.9  |\n",
      "|  Utilities            |           51.0 |           38.4  |\n",
      "|  Retail trade         |           48.8 |           49.2  |\n",
      "|  Real estate and r... |           48.8 |           52.0  |\n",
      "|  Educational services |           47.2 |           49.5  |\n",
      "|  Transportation an... |           47.1 |           43.7  |\n",
      "|  Wholesale trade      |           47.0 |           44.8  |\n",
      "|  Mining, quarrying... |           46.8 |           42.4  |\n",
      "|  Management of com... |           46.5 |           43.6  |\n",
      "|  Administrative an... |           46.5 |           47.5  |\n",
      "|  Arts, entertainme... |           46.5 |           52.4  |\n",
      "|  Manufacturing        |           46.0 |           48.5  |\n",
      "|  Total for all sec... |           45.0 |           46.9  |\n",
      "|  Information          |           43.2 |           46.1  |\n",
      "|  Finance and insur... |           42.2 |           40.5  |\n",
      "|  Other services (e... |           42.0 |           42.2  |\n",
      "|  Agriculture, fore... |           41.8 |           42.3  |\n",
      "|  Construction         |           40.2 |           38.0  |\n",
      "|  Health care and s... |           39.7 |           47.6  |\n",
      "|  Professional, sci... |           39.1 |           42.0  |\n",
      "|-----------------------+----------------+-----------------|\n"
     ]
    }
   ],
   "source": [
    "industry_ratios_0712.print_table()"
   ]
  },
  {
   "cell_type": "code",
   "execution_count": 81,
   "metadata": {
    "collapsed": true
   },
   "outputs": [],
   "source": [
    "industry_ratios_pc = industry_ratios_0712.compute([\n",
    "        ('pc_change', agate.PercentChange('FIRMALL_PCT_07', 'FIRMALL_PCT_12'))\n",
    "    ]).order_by('pc_change')\n",
    "from decimal import Decimal\n",
    "\n",
    "number_type = agate.Number()\n",
    "\n",
    "def round_pc(row):\n",
    "    return row['pc_change'].quantize(Decimal('0.1'))\n",
    "\n",
    "rounded = industry_ratios_pc.compute([\n",
    "    ('pc_rounded', agate.Formula(number_type, round_pc))\n",
    "])\n",
    "for_printing = rounded.select([\n",
    "        'Industry_07', 'pc_rounded'\n",
    "    ])"
   ]
  },
  {
   "cell_type": "code",
   "execution_count": 82,
   "metadata": {
    "collapsed": false
   },
   "outputs": [
    {
     "name": "stdout",
     "output_type": "stream",
     "text": [
      "|-----------------------------------------------------+-------------|\n",
      "|  Industry_07                                        | pc_rounded  |\n",
      "|-----------------------------------------------------+-------------|\n",
      "|  Utilities                                          |      -24.7  |\n",
      "|  Mining, quarrying, and oil and gas extraction      |       -9.4  |\n",
      "|  Transportation and warehousing                     |       -7.2  |\n",
      "|  Management of companies and enterprises            |       -6.2  |\n",
      "|  Construction                                       |       -5.5  |\n",
      "|  Wholesale trade                                    |       -4.7  |\n",
      "|  Finance and insurance                              |       -4.0  |\n",
      "|  Other services (except public administration)      |        0.5  |\n",
      "|  Retail trade                                       |        0.8  |\n",
      "|  Agriculture, forestry, fishing and hunting         |        1.2  |\n",
      "|  Accommodation and food services                    |        2.0  |\n",
      "|  Administrative and support and waste management... |        2.2  |\n",
      "|  Total for all sectors                              |        4.2  |\n",
      "|  Educational services                               |        4.9  |\n",
      "|  Manufacturing                                      |        5.4  |\n",
      "|  Real estate and rental and leasing                 |        6.6  |\n",
      "|  Information                                        |        6.7  |\n",
      "|  Professional, scientific, and technical services   |        7.4  |\n",
      "|  Arts, entertainment, and recreation                |       12.7  |\n",
      "|  Health care and social assistance                  |       19.9  |\n",
      "|-----------------------------------------------------+-------------|\n"
     ]
    }
   ],
   "source": [
    "for_printing.print_table(max_column_width=50)"
   ]
  },
  {
   "cell_type": "code",
   "execution_count": null,
   "metadata": {
    "collapsed": true
   },
   "outputs": [],
   "source": []
  }
 ],
 "metadata": {
  "kernelspec": {
   "display_name": "Python 3",
   "language": "python",
   "name": "python3"
  },
  "language_info": {
   "codemirror_mode": {
    "name": "ipython",
    "version": 3
   },
   "file_extension": ".py",
   "mimetype": "text/x-python",
   "name": "python",
   "nbconvert_exporter": "python",
   "pygments_lexer": "ipython3",
   "version": "3.5.1"
  }
 },
 "nbformat": 4,
 "nbformat_minor": 0
}
