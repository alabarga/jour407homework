{
 "cells": [
  {
   "cell_type": "markdown",
   "metadata": {},
   "source": [
    "Import agate, a Python-based data analysis library"
   ]
  },
  {
   "cell_type": "code",
   "execution_count": 1,
   "metadata": {
    "collapsed": false
   },
   "outputs": [],
   "source": [
    "import agate"
   ]
  },
  {
   "cell_type": "markdown",
   "metadata": {},
   "source": [
    "Create agate Table of csv file from Nebraska E911 fund data from 2001 to 2015"
   ]
  },
  {
   "cell_type": "code",
   "execution_count": 14,
   "metadata": {
    "collapsed": false
   },
   "outputs": [],
   "source": [
    "column_fix = agate.TypeTester(force={\n",
    "    'date': agate.Text(),\n",
    "    'neb_notes': agate.Text()\n",
    "})\n",
    "\n",
    "funds = agate.Table.from_csv('e911_fund.csv', column_types=column_fix)"
   ]
  },
  {
   "cell_type": "markdown",
   "metadata": {},
   "source": [
    "Check out column names & types from funds table"
   ]
  },
  {
   "cell_type": "code",
   "execution_count": 15,
   "metadata": {
    "collapsed": false
   },
   "outputs": [
    {
     "name": "stdout",
     "output_type": "stream",
     "text": [
      "|----------------+---------------|\n",
      "|  column_names  | column_types  |\n",
      "|----------------+---------------|\n",
      "|  date          | Text          |\n",
      "|  neb_balance   | Number        |\n",
      "|  neb_surcharge | Number        |\n",
      "|  neb_notes     | Text          |\n",
      "|----------------+---------------|\n",
      "\n"
     ]
    }
   ],
   "source": [
    "print(funds)"
   ]
  },
  {
   "cell_type": "code",
   "execution_count": 16,
   "metadata": {
    "collapsed": false
   },
   "outputs": [],
   "source": [
    "def calculateNebCellPhones(row):\n",
    "    return row['neb_balance'] / row['neb_surcharge']"
   ]
  },
  {
   "cell_type": "code",
   "execution_count": 17,
   "metadata": {
    "collapsed": false
   },
   "outputs": [],
   "source": [
    "cell_phones = funds.compute([\n",
    "        ('cell_phones', agate.Formula(agate.Number(), calculateNebCellPhones))\n",
    "    ])"
   ]
  },
  {
   "cell_type": "code",
   "execution_count": 18,
   "metadata": {
    "collapsed": false
   },
   "outputs": [
    {
     "name": "stdout",
     "output_type": "stream",
     "text": [
      "|-------+--------------+---------------+------------------+-----------------------|\n",
      "|  date |  neb_balance | neb_surcharge | neb_notes        |          cell_phones  |\n",
      "|-------+--------------+---------------+------------------+-----------------------|\n",
      "|  2015 | 8,120,555.80 |          0.45 |                  | 18,045,679.555555...  |\n",
      "|  2014 | 7,948,205.99 |          0.45 |                  | 17,662,679.977777...  |\n",
      "|  2013 | 8,020,447.42 |          0.45 |                  | 17,823,216.488888...  |\n",
      "|  2012 | 8,137,993.90 |          0.50 |                  | 16,275,987.800000...  |\n",
      "|  2011 | 8,012,693.70 |          0.50 |                  | 16,025,387.400000...  |\n",
      "|  2010 | 7,847,272.81 |          0.50 |                  | 15,694,545.620000...  |\n",
      "|  2009 | 7,701,153.41 |          0.50 |                  | 15,402,306.820000...  |\n",
      "|  2008 | 7,380,870.49 |          0.50 |                  | 14,761,740.980000...  |\n",
      "|  2007 | 6,849,095.65 |          0.50 |                  | 13,698,191.300000...  |\n",
      "|  2006 | 6,045,044.82 |          0.50 |                  | 12,090,089.640000...  |\n",
      "|  2005 | 5,759,442.54 |          0.50 |                  | 11,518,885.080000...  |\n",
      "|  2004 | 5,344,195.08 |          0.50 |                  | 10,688,390.160000...  |\n",
      "|  2003 | 4,931,242.88 |          0.50 |                  | 9,862,485.7600000...  |\n",
      "|  2002 | 4,556,158.34 |          0.50 |                  | 9,112,316.6800000...  |\n",
      "|  2001 | 2,045,383.75 |          0.50 | July to Dec 2001 | 4,090,767.5000000...  |\n",
      "|-------+--------------+---------------+------------------+-----------------------|\n"
     ]
    }
   ],
   "source": [
    "cell_phones.print_table()"
   ]
  },
  {
   "cell_type": "code",
   "execution_count": 21,
   "metadata": {
    "collapsed": true
   },
   "outputs": [],
   "source": [
    "from decimal import Decimal\n",
    "\n",
    "def round_cell_phones(row):\n",
    "    return row['cell_phones'].quantize(Decimal('1'))\n",
    "\n",
    "rounded_cell_phones = cell_phones.compute([\n",
    "        ('cell_phones_round', agate.Formula(agate.Number(), round_cell_phones))\n",
    "    ])"
   ]
  },
  {
   "cell_type": "code",
   "execution_count": 22,
   "metadata": {
    "collapsed": true
   },
   "outputs": [],
   "source": [
    "def calculateNP00(row):\n",
    "    return row['NP2000'] / row['Total2000']\n",
    "def calculateDem00(row):\n",
    "    return row['Dem2000'] / row['Total2000']\n",
    "def calculateGOP00(row):\n",
    "    return row['GOP2000'] / row['Total2000']"
   ]
  },
  {
   "cell_type": "code",
   "execution_count": 23,
   "metadata": {
    "collapsed": false
   },
   "outputs": [
    {
     "name": "stdout",
     "output_type": "stream",
     "text": [
      "|-------+--------------+---------------+------------------+----------------------+--------------------|\n",
      "|  date |  neb_balance | neb_surcharge | neb_notes        |          cell_phones | cell_phones_round  |\n",
      "|-------+--------------+---------------+------------------+----------------------+--------------------|\n",
      "|  2015 | 8,120,555.80 |          0.45 |                  | 18,045,679.555555... |        18,045,680  |\n",
      "|  2014 | 7,948,205.99 |          0.45 |                  | 17,662,679.977777... |        17,662,680  |\n",
      "|  2013 | 8,020,447.42 |          0.45 |                  | 17,823,216.488888... |        17,823,216  |\n",
      "|  2012 | 8,137,993.90 |          0.50 |                  | 16,275,987.800000... |        16,275,988  |\n",
      "|  2011 | 8,012,693.70 |          0.50 |                  | 16,025,387.400000... |        16,025,387  |\n",
      "|  2010 | 7,847,272.81 |          0.50 |                  | 15,694,545.620000... |        15,694,546  |\n",
      "|  2009 | 7,701,153.41 |          0.50 |                  | 15,402,306.820000... |        15,402,307  |\n",
      "|  2008 | 7,380,870.49 |          0.50 |                  | 14,761,740.980000... |        14,761,741  |\n",
      "|  2007 | 6,849,095.65 |          0.50 |                  | 13,698,191.300000... |        13,698,191  |\n",
      "|  2006 | 6,045,044.82 |          0.50 |                  | 12,090,089.640000... |        12,090,090  |\n",
      "|  2005 | 5,759,442.54 |          0.50 |                  | 11,518,885.080000... |        11,518,885  |\n",
      "|  2004 | 5,344,195.08 |          0.50 |                  | 10,688,390.160000... |        10,688,390  |\n",
      "|  2003 | 4,931,242.88 |          0.50 |                  | 9,862,485.7600000... |         9,862,486  |\n",
      "|  2002 | 4,556,158.34 |          0.50 |                  | 9,112,316.6800000... |         9,112,317  |\n",
      "|  2001 | 2,045,383.75 |          0.50 | July to Dec 2001 | 4,090,767.5000000... |         4,090,768  |\n",
      "|-------+--------------+---------------+------------------+----------------------+--------------------|\n"
     ]
    }
   ],
   "source": [
    "rounded_cell_phones.print_table()"
   ]
  },
  {
   "cell_type": "code",
   "execution_count": 25,
   "metadata": {
    "collapsed": false
   },
   "outputs": [],
   "source": [
    "rounded_cell_phones.to_csv('clean_cell_phone_fund.csv')"
   ]
  }
 ],
 "metadata": {
  "kernelspec": {
   "display_name": "Python 3",
   "language": "python",
   "name": "python3"
  },
  "language_info": {
   "codemirror_mode": {
    "name": "ipython",
    "version": 3
   },
   "file_extension": ".py",
   "mimetype": "text/x-python",
   "name": "python",
   "nbconvert_exporter": "python",
   "pygments_lexer": "ipython3",
   "version": "3.5.1"
  }
 },
 "nbformat": 4,
 "nbformat_minor": 0
}
