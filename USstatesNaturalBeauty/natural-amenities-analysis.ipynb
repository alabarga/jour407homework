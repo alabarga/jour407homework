{
 "cells": [
  {
   "cell_type": "markdown",
   "metadata": {},
   "source": [
    "Import agate, the very neat data program"
   ]
  },
  {
   "cell_type": "code",
   "execution_count": 1,
   "metadata": {
    "collapsed": true
   },
   "outputs": [],
   "source": [
    "import agate"
   ]
  },
  {
   "cell_type": "markdown",
   "metadata": {},
   "source": [
    "Import in the natural amenities file forcing some categories to be text to ensure that leading zeros are lost"
   ]
  },
  {
   "cell_type": "code",
   "execution_count": 2,
   "metadata": {
    "collapsed": false
   },
   "outputs": [],
   "source": [
    "text = agate.Text()\n",
    "tester = agate.TypeTester(force={\n",
    "    'FIPS': text,\n",
    "    'CombinedFIPS': text,\n",
    "})\n",
    "\n",
    "natural = agate.Table.from_csv('naturalamenities.csv', column_types=tester)"
   ]
  },
  {
   "cell_type": "markdown",
   "metadata": {},
   "source": [
    "Let's see what columns are in the table"
   ]
  },
  {
   "cell_type": "code",
   "execution_count": 3,
   "metadata": {
    "collapsed": false
   },
   "outputs": [
    {
     "name": "stdout",
     "output_type": "stream",
     "text": [
      "|-------------------------+---------------|\n",
      "|  column_names           | column_types  |\n",
      "|-------------------------+---------------|\n",
      "|  FIPS                   | Text          |\n",
      "|  CombinedFIPS           | Text          |\n",
      "|  STATE                  | Text          |\n",
      "|  County name            | Text          |\n",
      "|  CensusDivision         | Number        |\n",
      "|  RuralUrbanCode         | Number        |\n",
      "|  UrbanInfluenceCode     | Number        |\n",
      "|  MeanJanuaryTemp        | Number        |\n",
      "|  MeanJanuarySun         | Number        |\n",
      "|  MeanJulyTemp           | Number        |\n",
      "|  MeanJulyHumidity       | Number        |\n",
      "|  TopographyCode         | Number        |\n",
      "|  PercentWaterArea       | Number        |\n",
      "|  NaturalLogPercentWater | Number        |\n",
      "|  JanTempZScore          | Number        |\n",
      "|  JanSunZScore           | Number        |\n",
      "|  JulyTempZScore         | Number        |\n",
      "|  JulyHumidityZScore     | Number        |\n",
      "|  TopoZScore             | Number        |\n",
      "|  WaterAreaZScore        | Number        |\n",
      "|  NaturalAmenityScale    | Number        |\n",
      "|  NaturualAmenityRank    | Number        |\n",
      "|-------------------------+---------------|\n",
      "\n"
     ]
    }
   ],
   "source": [
    "print(natural)"
   ]
  },
  {
   "cell_type": "markdown",
   "metadata": {
    "collapsed": false
   },
   "source": [
    "Order the counties by the natural amenity scale and only select the county, state and scale amount columns"
   ]
  },
  {
   "cell_type": "code",
   "execution_count": 6,
   "metadata": {
    "collapsed": true
   },
   "outputs": [],
   "source": [
    "bottom = natural.order_by('NaturalAmenityScale').select([\n",
    "        'County name', 'STATE', 'NaturalAmenityScale'\n",
    "    ])"
   ]
  },
  {
   "cell_type": "markdown",
   "metadata": {},
   "source": [
    "Let's see the 50 lowest scoring counties. You'll undoubtedly notice that South Dakota isn't featured once."
   ]
  },
  {
   "cell_type": "code",
   "execution_count": 8,
   "metadata": {
    "collapsed": false
   },
   "outputs": [
    {
     "name": "stdout",
     "output_type": "stream",
     "text": [
      "|---------------+-------+----------------------|\n",
      "|  County name  | STATE | NaturalAmenityScale  |\n",
      "|---------------+-------+----------------------|\n",
      "|  RED LAKE     | MN    |               -6.40  |\n",
      "|  WILKIN       | MN    |               -6.10  |\n",
      "|  TIPTON       | IN    |               -5.40  |\n",
      "|  NORMAN       | MN    |               -5.37  |\n",
      "|  MOWER        | MN    |               -5.18  |\n",
      "|  PEMBINA      | ND    |               -5.18  |\n",
      "|  TRAILL       | ND    |               -5.12  |\n",
      "|  DODGE        | MN    |               -5.08  |\n",
      "|  GRAND FORKS  | ND    |               -5.01  |\n",
      "|  PENNINGTON   | MN    |               -4.97  |\n",
      "|  KITTSON      | MN    |               -4.90  |\n",
      "|  GRUNDY       | IA    |               -4.86  |\n",
      "|  CASS         | ND    |               -4.84  |\n",
      "|  BENTON       | IN    |               -4.71  |\n",
      "|  CHAMPAIGN    | IL    |               -4.55  |\n",
      "|  LYON         | IA    |               -4.49  |\n",
      "|  KOSSUTH      | IA    |               -4.47  |\n",
      "|  WINNESHIEK   | IA    |               -4.44  |\n",
      "|  CLINTON      | IN    |               -4.37  |\n",
      "|  CLARK        | WI    |               -4.34  |\n",
      "|  ROSEAU       | MN    |               -4.30  |\n",
      "|  ROCK         | MN    |               -4.25  |\n",
      "|  OBRIEN       | IA    |               -4.23  |\n",
      "|  PIATT        | IL    |               -4.21  |\n",
      "|  RANSOM       | ND    |               -4.21  |\n",
      "|  KOOCHICHING  | MN    |               -4.20  |\n",
      "|  FRANKLIN     | IA    |               -4.18  |\n",
      "|  CLAY         | MN    |               -4.17  |\n",
      "|  HOWARD       | IA    |               -4.16  |\n",
      "|  PIPESTONE    | MN    |               -4.13  |\n",
      "|  MITCHELL     | IA    |               -4.10  |\n",
      "|  FAYETTE      | IA    |               -4.09  |\n",
      "|  HANCOCK      | IA    |               -4.06  |\n",
      "|  HUMBOLDT     | IA    |               -4.05  |\n",
      "|  MARSHALL     | MN    |               -4.05  |\n",
      "|  YORK         | NE    |               -4.05  |\n",
      "|  FLOYD        | IA    |               -4.03  |\n",
      "|  FORD         | IL    |               -4.02  |\n",
      "|  WAYNE        | NE    |               -4.02  |\n",
      "|  IROQUOIS     | IL    |               -4.00  |\n",
      "|  FILLMORE     | NE    |               -4.00  |\n",
      "|  TOWNER       | ND    |               -3.99  |\n",
      "|  JAY          | IN    |               -3.98  |\n",
      "|  SIMPSON      | KY    |               -3.98  |\n",
      "|  YELLOW MEDIC | MN    |               -3.98  |\n",
      "|  RUSH         | IN    |               -3.97  |\n",
      "|  OLMSTED      | MN    |               -3.96  |\n",
      "|  LIVINGSTON   | IL    |               -3.95  |\n",
      "|  KEOKUK       | IA    |               -3.95  |\n",
      "|  WALSH        | ND    |               -3.95  |\n",
      "|  ...          | ...   |                 ...  |\n",
      "|---------------+-------+----------------------|\n"
     ]
    }
   ],
   "source": [
    "bottom.print_table(50)"
   ]
  },
  {
   "cell_type": "markdown",
   "metadata": {},
   "source": [
    "Let's print out an overall csv with only the FIPS and amenity scale so I can create a QGIS map."
   ]
  },
  {
   "cell_type": "code",
   "execution_count": 24,
   "metadata": {
    "collapsed": false
   },
   "outputs": [],
   "source": [
    "naturals = natural.select([\n",
    "        'FIPS', 'NaturalAmenityScale'\n",
    "    ])\n",
    "naturals.to_csv('natural-map.csv')"
   ]
  }
 ],
 "metadata": {
  "kernelspec": {
   "display_name": "Python 3",
   "language": "python",
   "name": "python3"
  },
  "language_info": {
   "codemirror_mode": {
    "name": "ipython",
    "version": 3
   },
   "file_extension": ".py",
   "mimetype": "text/x-python",
   "name": "python",
   "nbconvert_exporter": "python",
   "pygments_lexer": "ipython3",
   "version": "3.5.1"
  }
 },
 "nbformat": 4,
 "nbformat_minor": 0
}
