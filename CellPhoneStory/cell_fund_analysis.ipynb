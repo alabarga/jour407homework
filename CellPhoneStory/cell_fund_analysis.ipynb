{
 "cells": [
  {
   "cell_type": "markdown",
   "metadata": {},
   "source": [
    "Import agate, a Python-based data analysis library"
   ]
  },
  {
   "cell_type": "code",
   "execution_count": 1,
   "metadata": {
    "collapsed": false
   },
   "outputs": [],
   "source": [
    "import agate"
   ]
  },
  {
   "cell_type": "markdown",
   "metadata": {},
   "source": [
    "Create agate Table of csv file from Nebraska E911 fund data from 2001 to 2015"
   ]
  },
  {
   "cell_type": "code",
   "execution_count": 45,
   "metadata": {
    "collapsed": false
   },
   "outputs": [],
   "source": [
    "column_fix = agate.TypeTester(force={\n",
    "    'date': agate.Date(),\n",
    "    'neb_notes': agate.Text()\n",
    "})\n",
    "\n",
    "funds = agate.Table.from_csv('e911_fund.csv', column_types=column_fix)"
   ]
  },
  {
   "cell_type": "markdown",
   "metadata": {},
   "source": [
    "Check out column names & types from funds table"
   ]
  },
  {
   "cell_type": "code",
   "execution_count": 46,
   "metadata": {
    "collapsed": false
   },
   "outputs": [
    {
     "name": "stdout",
     "output_type": "stream",
     "text": [
      "|----------------+---------------|\n",
      "|  column_names  | column_types  |\n",
      "|----------------+---------------|\n",
      "|  date          | Date          |\n",
      "|  neb_balance   | Number        |\n",
      "|  neb_surcharge | Number        |\n",
      "|  neb_notes     | Text          |\n",
      "|----------------+---------------|\n",
      "\n"
     ]
    }
   ],
   "source": [
    "print(funds)"
   ]
  },
  {
   "cell_type": "markdown",
   "metadata": {},
   "source": [
    "Calculate the number of Nebraska cell phones by dividing the e911 fund by the surcharge amount"
   ]
  },
  {
   "cell_type": "code",
   "execution_count": 47,
   "metadata": {
    "collapsed": false
   },
   "outputs": [],
   "source": [
    "def calculateNebCellPhones(row):\n",
    "    return row['neb_balance'] / row['neb_surcharge']\n",
    "\n",
    "cell_phones = funds.compute([\n",
    "        ('cell_phones', agate.Formula(agate.Number(), calculateNebCellPhones))\n",
    "    ])"
   ]
  },
  {
   "cell_type": "markdown",
   "metadata": {
    "collapsed": false
   },
   "source": [
    "Let's see the new table"
   ]
  },
  {
   "cell_type": "code",
   "execution_count": 49,
   "metadata": {
    "collapsed": false
   },
   "outputs": [
    {
     "name": "stdout",
     "output_type": "stream",
     "text": [
      "|-------------+--------------+---------------+------------------+-----------------------|\n",
      "|        date |  neb_balance | neb_surcharge | neb_notes        |          cell_phones  |\n",
      "|-------------+--------------+---------------+------------------+-----------------------|\n",
      "|  2015-01-01 | 8,120,555.80 |          0.45 |                  | 18,045,679.555555...  |\n",
      "|  2014-01-01 | 7,948,205.99 |          0.45 |                  | 17,662,679.977777...  |\n",
      "|  2013-01-01 | 8,020,447.42 |          0.45 |                  | 17,823,216.488888...  |\n",
      "|  2012-01-01 | 8,137,993.90 |          0.50 |                  | 16,275,987.800000...  |\n",
      "|  2011-01-01 | 8,012,693.70 |          0.50 |                  | 16,025,387.400000...  |\n",
      "|  2010-01-01 | 7,847,272.81 |          0.50 |                  | 15,694,545.620000...  |\n",
      "|  2009-01-01 | 7,701,153.41 |          0.50 |                  | 15,402,306.820000...  |\n",
      "|  2008-01-01 | 7,380,870.49 |          0.50 |                  | 14,761,740.980000...  |\n",
      "|  2007-01-01 | 6,849,095.65 |          0.50 |                  | 13,698,191.300000...  |\n",
      "|  2006-01-01 | 6,045,044.82 |          0.50 |                  | 12,090,089.640000...  |\n",
      "|  2005-01-01 | 5,759,442.54 |          0.50 |                  | 11,518,885.080000...  |\n",
      "|  2004-01-01 | 5,344,195.08 |          0.50 |                  | 10,688,390.160000...  |\n",
      "|  2003-01-01 | 4,931,242.88 |          0.50 |                  | 9,862,485.7600000...  |\n",
      "|  2002-01-01 | 4,556,158.34 |          0.50 |                  | 9,112,316.6800000...  |\n",
      "|  2001-01-01 | 2,045,383.75 |          0.50 | July to Dec 2001 | 4,090,767.5000000...  |\n",
      "|-------------+--------------+---------------+------------------+-----------------------|\n"
     ]
    }
   ],
   "source": [
    "cell_phones.print_table()"
   ]
  },
  {
   "cell_type": "markdown",
   "metadata": {},
   "source": [
    "Now, I'll round those awkward cell phone estimates"
   ]
  },
  {
   "cell_type": "code",
   "execution_count": 50,
   "metadata": {
    "collapsed": true
   },
   "outputs": [],
   "source": [
    "from decimal import Decimal\n",
    "\n",
    "def round_cell_phones(row):\n",
    "    return row['cell_phones'].quantize(Decimal('1'))\n",
    "\n",
    "rounded_cell_phones = cell_phones.compute([\n",
    "        ('cell_phones_round', agate.Formula(agate.Number(), round_cell_phones))\n",
    "    ])"
   ]
  },
  {
   "cell_type": "markdown",
   "metadata": {},
   "source": [
    "Let's see the nebraska e911 fund table"
   ]
  },
  {
   "cell_type": "code",
   "execution_count": 51,
   "metadata": {
    "collapsed": false
   },
   "outputs": [
    {
     "name": "stdout",
     "output_type": "stream",
     "text": [
      "|-------------+--------------+---------------+------------------+----------------------+--------------------|\n",
      "|        date |  neb_balance | neb_surcharge | neb_notes        |          cell_phones | cell_phones_round  |\n",
      "|-------------+--------------+---------------+------------------+----------------------+--------------------|\n",
      "|  2015-01-01 | 8,120,555.80 |          0.45 |                  | 18,045,679.555555... |        18,045,680  |\n",
      "|  2014-01-01 | 7,948,205.99 |          0.45 |                  | 17,662,679.977777... |        17,662,680  |\n",
      "|  2013-01-01 | 8,020,447.42 |          0.45 |                  | 17,823,216.488888... |        17,823,216  |\n",
      "|  2012-01-01 | 8,137,993.90 |          0.50 |                  | 16,275,987.800000... |        16,275,988  |\n",
      "|  2011-01-01 | 8,012,693.70 |          0.50 |                  | 16,025,387.400000... |        16,025,387  |\n",
      "|  2010-01-01 | 7,847,272.81 |          0.50 |                  | 15,694,545.620000... |        15,694,546  |\n",
      "|  2009-01-01 | 7,701,153.41 |          0.50 |                  | 15,402,306.820000... |        15,402,307  |\n",
      "|  2008-01-01 | 7,380,870.49 |          0.50 |                  | 14,761,740.980000... |        14,761,741  |\n",
      "|  2007-01-01 | 6,849,095.65 |          0.50 |                  | 13,698,191.300000... |        13,698,191  |\n",
      "|  2006-01-01 | 6,045,044.82 |          0.50 |                  | 12,090,089.640000... |        12,090,090  |\n",
      "|  2005-01-01 | 5,759,442.54 |          0.50 |                  | 11,518,885.080000... |        11,518,885  |\n",
      "|  2004-01-01 | 5,344,195.08 |          0.50 |                  | 10,688,390.160000... |        10,688,390  |\n",
      "|  2003-01-01 | 4,931,242.88 |          0.50 |                  | 9,862,485.7600000... |         9,862,486  |\n",
      "|  2002-01-01 | 4,556,158.34 |          0.50 |                  | 9,112,316.6800000... |         9,112,317  |\n",
      "|  2001-01-01 | 2,045,383.75 |          0.50 | July to Dec 2001 | 4,090,767.5000000... |         4,090,768  |\n",
      "|-------------+--------------+---------------+------------------+----------------------+--------------------|\n"
     ]
    }
   ],
   "source": [
    "rounded_cell_phones.print_table()"
   ]
  },
  {
   "cell_type": "markdown",
   "metadata": {},
   "source": [
    "Add the Iowa e911 fund information"
   ]
  },
  {
   "cell_type": "code",
   "execution_count": 52,
   "metadata": {
    "collapsed": true
   },
   "outputs": [],
   "source": [
    "column_names = ['date', 'ia_balance', 'ia_surcharge']\n",
    "column_types = [agate.Date(), agate.Number(), agate.Number()]\n",
    "iowa_phones = agate.Table.from_csv('e911_fund_iowa.csv', column_names, column_types)"
   ]
  },
  {
   "cell_type": "code",
   "execution_count": 53,
   "metadata": {
    "collapsed": false
   },
   "outputs": [
    {
     "name": "stdout",
     "output_type": "stream",
     "text": [
      "|---------------+---------------|\n",
      "|  column_names | column_types  |\n",
      "|---------------+---------------|\n",
      "|  date         | Date          |\n",
      "|  ia_balance   | Number        |\n",
      "|  ia_surcharge | Number        |\n",
      "|---------------+---------------|\n",
      "\n"
     ]
    }
   ],
   "source": [
    "print(iowa_phones)"
   ]
  },
  {
   "cell_type": "markdown",
   "metadata": {},
   "source": [
    "Calculate IA cell phones from e911 balance and surcharge amounts"
   ]
  },
  {
   "cell_type": "code",
   "execution_count": 54,
   "metadata": {
    "collapsed": true
   },
   "outputs": [],
   "source": [
    "def calculateIACellPhones(row):\n",
    "    return row['ia_balance'] / row['ia_surcharge']"
   ]
  },
  {
   "cell_type": "code",
   "execution_count": 55,
   "metadata": {
    "collapsed": false
   },
   "outputs": [],
   "source": [
    "ia_cell_phones = iowa_phones.compute([\n",
    "        ('ia_cell_phones', agate.Formula(agate.Number(), calculateIACellPhones))\n",
    "    ])"
   ]
  },
  {
   "cell_type": "code",
   "execution_count": 56,
   "metadata": {
    "collapsed": false
   },
   "outputs": [
    {
     "name": "stdout",
     "output_type": "stream",
     "text": [
      "|-------------+---------------+--------------+-----------------------|\n",
      "|        date |    ia_balance | ia_surcharge |       ia_cell_phones  |\n",
      "|-------------+---------------+--------------+-----------------------|\n",
      "|  2006-01-01 |  2,259,443.41 |         0.65 | 3,476,066.7846153...  |\n",
      "|  2007-01-01 |  2,457,508.25 |         0.65 | 3,780,781.9230769...  |\n",
      "|  2008-01-01 |  3,577,089.62 |         0.65 | 5,503,214.8000000...  |\n",
      "|  2009-01-01 |  4,501,061.70 |         0.65 | 6,924,710.3076923...  |\n",
      "|  2010-01-01 | 11,015,639.09 |         0.65 | 16,947,137.061538...  |\n",
      "|  2011-01-01 | 10,813,367.38 |         0.65 | 16,635,949.815384...  |\n",
      "|  2012-01-01 | 11,074,150.06 |         0.65 | 17,037,153.938461...  |\n",
      "|  2013-01-01 | 11,414,732.85 |         1.00 | 11,414,732.850000...  |\n",
      "|  2014-01-01 | 21,045,807.15 |         1.00 | 21,045,807.150000...  |\n",
      "|  2015-01-01 | 19,105,078.21 |         1.00 | 19,105,078.210000...  |\n",
      "|-------------+---------------+--------------+-----------------------|\n"
     ]
    }
   ],
   "source": [
    "ia_cell_phones.print_table()"
   ]
  },
  {
   "cell_type": "markdown",
   "metadata": {},
   "source": [
    "Round those cell phone amounts"
   ]
  },
  {
   "cell_type": "code",
   "execution_count": 57,
   "metadata": {
    "collapsed": false
   },
   "outputs": [],
   "source": [
    "from decimal import Decimal\n",
    "\n",
    "def round_cell_phones_ia(row):\n",
    "    return row['ia_cell_phones'].quantize(Decimal('1'))\n",
    "\n",
    "rounded_cell_phones_ia = ia_cell_phones.compute([\n",
    "        ('ia_cell_phones_round', agate.Formula(agate.Number(), round_cell_phones_ia))\n",
    "    ])"
   ]
  },
  {
   "cell_type": "code",
   "execution_count": 58,
   "metadata": {
    "collapsed": false
   },
   "outputs": [
    {
     "name": "stdout",
     "output_type": "stream",
     "text": [
      "|-------------+---------------+--------------+----------------------+-----------------------|\n",
      "|        date |    ia_balance | ia_surcharge |       ia_cell_phones | ia_cell_phones_round  |\n",
      "|-------------+---------------+--------------+----------------------+-----------------------|\n",
      "|  2006-01-01 |  2,259,443.41 |         0.65 | 3,476,066.7846153... |            3,476,067  |\n",
      "|  2007-01-01 |  2,457,508.25 |         0.65 | 3,780,781.9230769... |            3,780,782  |\n",
      "|  2008-01-01 |  3,577,089.62 |         0.65 | 5,503,214.8000000... |            5,503,215  |\n",
      "|  2009-01-01 |  4,501,061.70 |         0.65 | 6,924,710.3076923... |            6,924,710  |\n",
      "|  2010-01-01 | 11,015,639.09 |         0.65 | 16,947,137.061538... |           16,947,137  |\n",
      "|  2011-01-01 | 10,813,367.38 |         0.65 | 16,635,949.815384... |           16,635,950  |\n",
      "|  2012-01-01 | 11,074,150.06 |         0.65 | 17,037,153.938461... |           17,037,154  |\n",
      "|  2013-01-01 | 11,414,732.85 |         1.00 | 11,414,732.850000... |           11,414,733  |\n",
      "|  2014-01-01 | 21,045,807.15 |         1.00 | 21,045,807.150000... |           21,045,807  |\n",
      "|  2015-01-01 | 19,105,078.21 |         1.00 | 19,105,078.210000... |           19,105,078  |\n",
      "|-------------+---------------+--------------+----------------------+-----------------------|\n"
     ]
    }
   ],
   "source": [
    "rounded_cell_phones_ia.print_table()"
   ]
  },
  {
   "cell_type": "markdown",
   "metadata": {},
   "source": [
    "Join together nebraska and iowa tables"
   ]
  },
  {
   "cell_type": "code",
   "execution_count": 65,
   "metadata": {
    "collapsed": false
   },
   "outputs": [],
   "source": [
    "total_cell_phones = rounded_cell_phones.join(rounded_cell_phones_ia, 'date', 'date')"
   ]
  },
  {
   "cell_type": "code",
   "execution_count": 73,
   "metadata": {
    "collapsed": false
   },
   "outputs": [
    {
     "name": "stdout",
     "output_type": "stream",
     "text": [
      "|-------------+--------------+---------------+------------------+----------------------+-------------------+---------------+--------------+----------------------+-----------------------|\n",
      "|        date |  neb_balance | neb_surcharge | neb_notes        |          cell_phones | cell_phones_round |    ia_balance | ia_surcharge |       ia_cell_phones | ia_cell_phones_round  |\n",
      "|-------------+--------------+---------------+------------------+----------------------+-------------------+---------------+--------------+----------------------+-----------------------|\n",
      "|  2015-01-01 | 8,120,555.80 |          0.45 |                  | 18,045,679.555555... |        18,045,680 | 19,105,078.21 |         1.00 | 19,105,078.210000... |           19,105,078  |\n",
      "|  2014-01-01 | 7,948,205.99 |          0.45 |                  | 17,662,679.977777... |        17,662,680 | 21,045,807.15 |         1.00 | 21,045,807.150000... |           21,045,807  |\n",
      "|  2013-01-01 | 8,020,447.42 |          0.45 |                  | 17,823,216.488888... |        17,823,216 | 11,414,732.85 |         1.00 | 11,414,732.850000... |           11,414,733  |\n",
      "|  2012-01-01 | 8,137,993.90 |          0.50 |                  | 16,275,987.800000... |        16,275,988 | 11,074,150.06 |         0.65 | 17,037,153.938461... |           17,037,154  |\n",
      "|  2011-01-01 | 8,012,693.70 |          0.50 |                  | 16,025,387.400000... |        16,025,387 | 10,813,367.38 |         0.65 | 16,635,949.815384... |           16,635,950  |\n",
      "|  2010-01-01 | 7,847,272.81 |          0.50 |                  | 15,694,545.620000... |        15,694,546 | 11,015,639.09 |         0.65 | 16,947,137.061538... |           16,947,137  |\n",
      "|  2009-01-01 | 7,701,153.41 |          0.50 |                  | 15,402,306.820000... |        15,402,307 |  4,501,061.70 |         0.65 | 6,924,710.3076923... |            6,924,710  |\n",
      "|  2008-01-01 | 7,380,870.49 |          0.50 |                  | 14,761,740.980000... |        14,761,741 |  3,577,089.62 |         0.65 | 5,503,214.8000000... |            5,503,215  |\n",
      "|  2007-01-01 | 6,849,095.65 |          0.50 |                  | 13,698,191.300000... |        13,698,191 |  2,457,508.25 |         0.65 | 3,780,781.9230769... |            3,780,782  |\n",
      "|  2006-01-01 | 6,045,044.82 |          0.50 |                  | 12,090,089.640000... |        12,090,090 |  2,259,443.41 |         0.65 | 3,476,066.7846153... |            3,476,067  |\n",
      "|  2005-01-01 | 5,759,442.54 |          0.50 |                  | 11,518,885.080000... |        11,518,885 |               |              |                      |                       |\n",
      "|  2004-01-01 | 5,344,195.08 |          0.50 |                  | 10,688,390.160000... |        10,688,390 |               |              |                      |                       |\n",
      "|  2003-01-01 | 4,931,242.88 |          0.50 |                  | 9,862,485.7600000... |         9,862,486 |               |              |                      |                       |\n",
      "|  2002-01-01 | 4,556,158.34 |          0.50 |                  | 9,112,316.6800000... |         9,112,317 |               |              |                      |                       |\n",
      "|  2001-01-01 | 2,045,383.75 |          0.50 | July to Dec 2001 | 4,090,767.5000000... |         4,090,768 |               |              |                      |                       |\n",
      "|-------------+--------------+---------------+------------------+----------------------+-------------------+---------------+--------------+----------------------+-----------------------|\n"
     ]
    }
   ],
   "source": [
    "total_cell_phones.print_table()"
   ]
  },
  {
   "cell_type": "markdown",
   "metadata": {},
   "source": [
    "I wanted to calculate some stats by just grabing the amounts from the table"
   ]
  },
  {
   "cell_type": "code",
   "execution_count": 90,
   "metadata": {
    "collapsed": false
   },
   "outputs": [],
   "source": [
    "ia_phones_2015 = total_cell_phones.columns['ia_cell_phones_round'][0]\n",
    "ia_phones_2006 = total_cell_phones.columns['ia_cell_phones_round'][9]\n",
    "ia_pc_change = ( ia_phones_2015 - ia_phones_2006)/ia_phones_2006"
   ]
  },
  {
   "cell_type": "code",
   "execution_count": 92,
   "metadata": {
    "collapsed": false
   },
   "outputs": [
    {
     "name": "stdout",
     "output_type": "stream",
     "text": [
      "Iowa percent change in cell phones for 2015, 19105078, to 2006 3476067 is 4.496176569669111671322790959\n"
     ]
    }
   ],
   "source": [
    "print(\"Iowa percent change in cell phones for 2015, {}, to 2006 {} is {}\".format(ia_phones_2015, ia_phones_2006, ia_pc_change))"
   ]
  },
  {
   "cell_type": "code",
   "execution_count": 93,
   "metadata": {
    "collapsed": true
   },
   "outputs": [],
   "source": [
    "neb_phones_2015 = total_cell_phones.columns['cell_phones_round'][0]\n",
    "neb_phones_2006 = total_cell_phones.columns['cell_phones_round'][9]\n",
    "neb_pc_change = (neb_phones_2015 - neb_phones_2006)/neb_phones_2006"
   ]
  },
  {
   "cell_type": "code",
   "execution_count": 94,
   "metadata": {
    "collapsed": false
   },
   "outputs": [
    {
     "name": "stdout",
     "output_type": "stream",
     "text": [
      "Neb percent change in cell phones for 2015, 18045680, to 2006 12090090 is 0.4926009649225109159650589863\n"
     ]
    }
   ],
   "source": [
    "print(\"Neb percent change in cell phones for 2015, {}, to 2006 {} is {}\".format(neb_phones_2015, neb_phones_2006, neb_pc_change))"
   ]
  },
  {
   "cell_type": "code",
   "execution_count": 95,
   "metadata": {
    "collapsed": true
   },
   "outputs": [],
   "source": [
    "neb_phones_2001 = total_cell_phones.columns['cell_phones_round'][14]\n",
    "neb_pc_change_total = (neb_phones_2015 - neb_phones_2001)/neb_phones_2001"
   ]
  },
  {
   "cell_type": "code",
   "execution_count": 96,
   "metadata": {
    "collapsed": false
   },
   "outputs": [
    {
     "name": "stdout",
     "output_type": "stream",
     "text": [
      "Neb percent change in cell phones for 2015, 18045680, to 2001 4090768 is 3.411318363691121080442596598\n"
     ]
    }
   ],
   "source": [
    "print(\"Neb percent change in cell phones for 2015, {}, to 2001 {} is {}\".format(total_cell_phones.columns['cell_phones_round'][0], total_cell_phones.columns['cell_phones_round'][14], neb_pc_change_total))"
   ]
  },
  {
   "cell_type": "markdown",
   "metadata": {},
   "source": [
    "Calculate the percent cell phone numbers with previously estimated cell phones and US census pop estimates"
   ]
  },
  {
   "cell_type": "code",
   "execution_count": 97,
   "metadata": {
    "collapsed": true
   },
   "outputs": [],
   "source": [
    "neb_pop_15 = 1896190\n",
    "neb_pop_06 = 1796619\n",
    "ia_pop_15 = 3123899\n",
    "ia_pop_06 = 2982644"
   ]
  },
  {
   "cell_type": "code",
   "execution_count": 98,
   "metadata": {
    "collapsed": true
   },
   "outputs": [],
   "source": [
    "neb_pc_cell15 = (neb_phones_2015/neb_pop_15)\n",
    "neb_pc_cell06 = (neb_phones_2006/neb_pop_06)\n",
    "ia_pc_cell15 = (ia_phones_2015/ia_pop_15)\n",
    "ia_pc_cell06 = (ia_phones_2006/ia_pop_06)"
   ]
  },
  {
   "cell_type": "code",
   "execution_count": 99,
   "metadata": {
    "collapsed": false
   },
   "outputs": [
    {
     "name": "stdout",
     "output_type": "stream",
     "text": [
      "Neb cell 15 9.516810024311909671499164113, neb cell 06 6.729356641558393849781172302, ia cell 15 6.115779671493860717007816194, ia cell 06 1.165431409179238286567220225\n"
     ]
    }
   ],
   "source": [
    "print('Neb cell 15 {}, neb cell 06 {}, ia cell 15 {}, ia cell 06 {}'.format(neb_pc_cell15, neb_pc_cell06, ia_pc_cell15, ia_pc_cell06))"
   ]
  },
  {
   "cell_type": "code",
   "execution_count": 100,
   "metadata": {
    "collapsed": false
   },
   "outputs": [],
   "source": [
    "total_cell_phones.to_csv('clean_cell_phone_fund.csv')"
   ]
  }
 ],
 "metadata": {
  "kernelspec": {
   "display_name": "Python 3",
   "language": "python",
   "name": "python3"
  },
  "language_info": {
   "codemirror_mode": {
    "name": "ipython",
    "version": 3
   },
   "file_extension": ".py",
   "mimetype": "text/x-python",
   "name": "python",
   "nbconvert_exporter": "python",
   "pygments_lexer": "ipython3",
   "version": "3.5.1"
  }
 },
 "nbformat": 4,
 "nbformat_minor": 0
}
