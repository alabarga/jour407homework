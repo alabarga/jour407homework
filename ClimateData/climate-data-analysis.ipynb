{
 "cells": [
  {
   "cell_type": "code",
   "execution_count": 2,
   "metadata": {
    "collapsed": false
   },
   "outputs": [],
   "source": [
    "import agate\n",
    "text = agate.Text()\n",
    "number = agate.Number()\n",
    "mean_temps = agate.Table.from_csv('mean_temp_65_15.csv')"
   ]
  },
  {
   "cell_type": "code",
   "execution_count": 3,
   "metadata": {
    "collapsed": false
   },
   "outputs": [
    {
     "name": "stdout",
     "output_type": "stream",
     "text": [
      "|----------------------+---------------|\n",
      "|  column_names        | column_types  |\n",
      "|----------------------+---------------|\n",
      "|  Name                | Text          |\n",
      "|   MeanAvgTemperature | Text          |\n",
      "|   mcnt               | Number        |\n",
      "|----------------------+---------------|\n",
      "\n"
     ]
    }
   ],
   "source": [
    "print(mean_temps)"
   ]
  },
  {
   "cell_type": "code",
   "execution_count": 4,
   "metadata": {
    "collapsed": false
   },
   "outputs": [
    {
     "name": "stdout",
     "output_type": "stream",
     "text": [
      "|--------------------+---------------------+--------|\n",
      "|  Name              |  MeanAvgTemperature |  mcnt  |\n",
      "|--------------------+---------------------+--------|\n",
      "|  Grand Island Area | 50.6                |     1  |\n",
      "|  North Platte Area | 48.6                |     0  |\n",
      "|  Lincoln Area      | 51.4                |     2  |\n",
      "|  Norfolk Area      | 49.1                |     4  |\n",
      "|  Omaha Area        | 51.1                |     2  |\n",
      "|--------------------+---------------------+--------|\n"
     ]
    }
   ],
   "source": [
    "mean_temps_long = mean_temps.where(lambda row: row[' MeanAvgTemperature'] != 'M')\n",
    "locations = ['Grand Island Area', 'North Platte Area', 'Lincoln Area', 'Norfolk Area', 'Omaha Area']\n",
    "mean_locations = mean_temps_long.where(lambda row:row['Name'] in locations)\n",
    "mean_locations.print_table()"
   ]
  },
  {
   "cell_type": "code",
   "execution_count": 12,
   "metadata": {
    "collapsed": false
   },
   "outputs": [
    {
     "name": "stdout",
     "output_type": "stream",
     "text": [
      "|--------+-------------------+---------------------+--------|\n",
      "|   Year | Name              |  MeanAvgTemperature |  mcnt  |\n",
      "|--------+-------------------+---------------------+--------|\n",
      "|  1,940 | Grand Island Area | 50.5                |     0  |\n",
      "|  1,940 | North Platte Area | 49.5                |     0  |\n",
      "|  1,940 | Lincoln Area      | 51.6                |     2  |\n",
      "|  1,940 | Norfolk Area      | M                   |   102  |\n",
      "|  1,940 | Omaha Area        | 51.4                |     1  |\n",
      "|--------+-------------------+---------------------+--------|\n",
      "|--------+-------------------+---------------------+--------|\n",
      "|   Year | Name              |  MeanAvgTemperature |  mcnt  |\n",
      "|--------+-------------------+---------------------+--------|\n",
      "|  1,965 | Grand Island Area | 50                  |     0  |\n",
      "|  1,965 | North Platte Area | 47.6                |     0  |\n",
      "|  1,965 | Lincoln Area      | 51.4                |     0  |\n",
      "|  1,965 | Norfolk Area      | 48.1                |     1  |\n",
      "|  1,965 | Omaha Area        | 51                  |     0  |\n",
      "|--------+-------------------+---------------------+--------|\n",
      "|--------+-------------------+---------------------+--------|\n",
      "|   Year | Name              |  MeanAvgTemperature |  mcnt  |\n",
      "|--------+-------------------+---------------------+--------|\n",
      "|  1,975 | Grand Island Area | 49.8                |     0  |\n",
      "|  1,975 | North Platte Area | 47.9                |     0  |\n",
      "|  1,975 | Lincoln Area      | 50.5                |     2  |\n",
      "|  1,975 | Norfolk Area      | 48.6                |     0  |\n",
      "|  1,975 | Omaha Area        | 50.3                |     1  |\n",
      "|--------+-------------------+---------------------+--------|\n",
      "|--------+-------------------+---------------------+--------|\n",
      "|   Year | Name              |  MeanAvgTemperature |  mcnt  |\n",
      "|--------+-------------------+---------------------+--------|\n",
      "|  1,985 | Grand Island Area | 50.9                |     0  |\n",
      "|  1,985 | North Platte Area | 49.2                |     0  |\n",
      "|  1,985 | Lincoln Area      | 51.7                |     0  |\n",
      "|  1,985 | Norfolk Area      | 49.6                |     1  |\n",
      "|  1,985 | Omaha Area        | 51.2                |     0  |\n",
      "|--------+-------------------+---------------------+--------|\n",
      "|--------+-------------------+---------------------+--------|\n",
      "|   Year | Name              |  MeanAvgTemperature |  mcnt  |\n",
      "|--------+-------------------+---------------------+--------|\n",
      "|  1,995 | Grand Island Area | 51                  |     1  |\n",
      "|  1,995 | North Platte Area | 49.2                |     0  |\n",
      "|  1,995 | Lincoln Area      | 51.6                |     0  |\n",
      "|  1,995 | Norfolk Area      | 49.6                |     0  |\n",
      "|  1,995 | Omaha Area        | 51.4                |     1  |\n",
      "|--------+-------------------+---------------------+--------|\n",
      "|--------+-------------------+---------------------+--------|\n",
      "|   Year | Name              |  MeanAvgTemperature |  mcnt  |\n",
      "|--------+-------------------+---------------------+--------|\n",
      "|  2,005 | Grand Island Area | 51.5                |     0  |\n",
      "|  2,005 | North Platte Area | 49.3                |     0  |\n",
      "|  2,005 | Lincoln Area      | 51.8                |     0  |\n",
      "|  2,005 | Norfolk Area      | 49.7                |     2  |\n",
      "|  2,005 | Omaha Area        | 51.8                |     0  |\n",
      "|--------+-------------------+---------------------+--------|\n"
     ]
    }
   ],
   "source": [
    "locations = ['Grand Island Area', 'North Platte Area', 'Lincoln Area', 'Norfolk Area', 'Omaha Area']\n",
    "mean_temps4060 = agate.Table.from_csv('mean_temp_40_60.csv')\n",
    "mean_locations4060 = mean_temps4060.where(lambda row:row['Name'] in locations)\n",
    "mean_locations4060.print_table()\n",
    "mean_temps6575 = agate.Table.from_csv('mean_temp_65_75.csv')\n",
    "mean_locations6575 = mean_temps6575.where(lambda row:row['Name'] in locations)\n",
    "mean_locations6575.print_table()\n",
    "mean_temps7585 = agate.Table.from_csv('mean_temp_75_85.csv')\n",
    "mean_locations7585 = mean_temps7585.where(lambda row:row['Name'] in locations)\n",
    "mean_locations7585.print_table()\n",
    "mean_temps8595 = agate.Table.from_csv('mean_temp_85_95.csv')\n",
    "mean_locations8595 = mean_temps8595.where(lambda row:row['Name'] in locations)\n",
    "mean_locations8595.print_table()\n",
    "mean_temps9505 = agate.Table.from_csv('mean_temp_95_05.csv')\n",
    "mean_locations9505 = mean_temps9505.where(lambda row:row['Name'] in locations)\n",
    "mean_locations9505.print_table()\n",
    "mean_temps0515 = agate.Table.from_csv('mean_temp_05_15.csv')\n",
    "mean_locations0515 = mean_temps0515.where(lambda row:row['Name'] in locations)\n",
    "mean_locations0515.print_table()"
   ]
  },
  {
   "cell_type": "code",
   "execution_count": 13,
   "metadata": {
    "collapsed": false
   },
   "outputs": [
    {
     "name": "stdout",
     "output_type": "stream",
     "text": [
      "|--------+-------------------+---------------------+--------|\n",
      "|   Year | Name              |  MeanAvgTemperature |  mcnt  |\n",
      "|--------+-------------------+---------------------+--------|\n",
      "|  1,940 | Grand Island Area | 50.5                |     0  |\n",
      "|  1,940 | North Platte Area | 49.5                |     0  |\n",
      "|  1,940 | Lincoln Area      | 51.6                |     2  |\n",
      "|  1,940 | Norfolk Area      | M                   |   102  |\n",
      "|  1,940 | Omaha Area        | 51.4                |     1  |\n",
      "|  1,965 | Grand Island Area | 50                  |     0  |\n",
      "|  1,965 | North Platte Area | 47.6                |     0  |\n",
      "|  1,965 | Lincoln Area      | 51.4                |     0  |\n",
      "|  1,965 | Norfolk Area      | 48.1                |     1  |\n",
      "|  1,965 | Omaha Area        | 51                  |     0  |\n",
      "|  1,975 | Grand Island Area | 49.8                |     0  |\n",
      "|  1,975 | North Platte Area | 47.9                |     0  |\n",
      "|  1,975 | Lincoln Area      | 50.5                |     2  |\n",
      "|  1,975 | Norfolk Area      | 48.6                |     0  |\n",
      "|  1,975 | Omaha Area        | 50.3                |     1  |\n",
      "|  1,985 | Grand Island Area | 50.9                |     0  |\n",
      "|  1,985 | North Platte Area | 49.2                |     0  |\n",
      "|  1,985 | Lincoln Area      | 51.7                |     0  |\n",
      "|  1,985 | Norfolk Area      | 49.6                |     1  |\n",
      "|  1,985 | Omaha Area        | 51.2                |     0  |\n",
      "|  1,995 | Grand Island Area | 51                  |     1  |\n",
      "|  1,995 | North Platte Area | 49.2                |     0  |\n",
      "|  1,995 | Lincoln Area      | 51.6                |     0  |\n",
      "|  1,995 | Norfolk Area      | 49.6                |     0  |\n",
      "|  1,995 | Omaha Area        | 51.4                |     1  |\n",
      "|  2,005 | Grand Island Area | 51.5                |     0  |\n",
      "|  2,005 | North Platte Area | 49.3                |     0  |\n",
      "|  2,005 | Lincoln Area      | 51.8                |     0  |\n",
      "|  2,005 | Norfolk Area      | 49.7                |     2  |\n",
      "|  2,005 | Omaha Area        | 51.8                |     0  |\n",
      "|--------+-------------------+---------------------+--------|\n"
     ]
    }
   ],
   "source": [
    "total_temps = agate.Table.from_csv('mean_temp_total.csv')\n",
    "mean_locations_total = total_temps.where(lambda row:row['Name'] in locations)\n",
    "\n",
    "mean_locations_total.print_table()\n"
   ]
  },
  {
   "cell_type": "code",
   "execution_count": 15,
   "metadata": {
    "collapsed": true
   },
   "outputs": [],
   "source": [
    "import seaborn as sns\n",
    "import matplotlib.pyplot as plt\n",
    "import pandas as pd\n",
    "\n",
    "sns.set(style=\"ticks\", context='talk', font_scale=1)\n",
    "%matplotlib inline\n"
   ]
  },
  {
   "cell_type": "code",
   "execution_count": 16,
   "metadata": {
    "collapsed": false
   },
   "outputs": [],
   "source": [
    "df = pd.read_csv('mean_temp_total.csv')"
   ]
  },
  {
   "cell_type": "code",
   "execution_count": 22,
   "metadata": {
    "collapsed": false
   },
   "outputs": [
    {
     "ename": "ValueError",
     "evalue": "cannot label index with a null key",
     "output_type": "error",
     "traceback": [
      "\u001b[0;31m---------------------------------------------------------------------------\u001b[0m",
      "\u001b[0;31mValueError\u001b[0m                                Traceback (most recent call last)",
      "\u001b[0;32m<ipython-input-22-043111d9df08>\u001b[0m in \u001b[0;36m<module>\u001b[0;34m()\u001b[0m\n\u001b[1;32m      1\u001b[0m \u001b[0msns\u001b[0m\u001b[0;34m.\u001b[0m\u001b[0mset_style\u001b[0m\u001b[0;34m(\u001b[0m\u001b[0;34m\"white\"\u001b[0m\u001b[0;34m)\u001b[0m\u001b[0;34m\u001b[0m\u001b[0m\n\u001b[0;32m----> 2\u001b[0;31m \u001b[0msns\u001b[0m\u001b[0;34m.\u001b[0m\u001b[0mtsplot\u001b[0m\u001b[0;34m(\u001b[0m\u001b[0my\u001b[0m\u001b[0;34m=\u001b[0m\u001b[0;34m\" MeanAvgTemperature\"\u001b[0m\u001b[0;34m,\u001b[0m \u001b[0mdata\u001b[0m\u001b[0;34m=\u001b[0m\u001b[0mdf\u001b[0m\u001b[0;34m)\u001b[0m\u001b[0;34m;\u001b[0m\u001b[0;34m\u001b[0m\u001b[0m\n\u001b[0m\u001b[1;32m      3\u001b[0m \u001b[0mplt\u001b[0m\u001b[0;34m.\u001b[0m\u001b[0mylabel\u001b[0m\u001b[0;34m(\u001b[0m\u001b[0;34m''\u001b[0m\u001b[0;34m)\u001b[0m\u001b[0;34m\u001b[0m\u001b[0m\n\u001b[1;32m      4\u001b[0m \u001b[0mplt\u001b[0m\u001b[0;34m.\u001b[0m\u001b[0mxlabel\u001b[0m\u001b[0;34m(\u001b[0m\u001b[0;34m'Differences in Annual Temperatures Compared to 30 year average 1981-2010'\u001b[0m\u001b[0;34m)\u001b[0m\u001b[0;34m\u001b[0m\u001b[0m\n\u001b[1;32m      5\u001b[0m \u001b[0mplt\u001b[0m\u001b[0;34m.\u001b[0m\u001b[0mxticks\u001b[0m\u001b[0;34m(\u001b[0m\u001b[0mrotation\u001b[0m\u001b[0;34m=\u001b[0m\u001b[0;36m90\u001b[0m\u001b[0;34m)\u001b[0m\u001b[0;34m\u001b[0m\u001b[0m\n",
      "\u001b[0;32m/Users/lexieheinle/anaconda/envs/homework/lib/python3.5/site-packages/seaborn/timeseries.py\u001b[0m in \u001b[0;36mtsplot\u001b[0;34m(data, time, unit, condition, value, err_style, ci, interpolate, color, estimator, n_boot, err_palette, err_kws, legend, ax, **kwargs)\u001b[0m\n\u001b[1;32m    275\u001b[0m     \u001b[0;32mfor\u001b[0m \u001b[0mc\u001b[0m\u001b[0;34m,\u001b[0m \u001b[0;34m(\u001b[0m\u001b[0mcond\u001b[0m\u001b[0;34m,\u001b[0m \u001b[0mdf_c\u001b[0m\u001b[0;34m)\u001b[0m \u001b[0;32min\u001b[0m \u001b[0menumerate\u001b[0m\u001b[0;34m(\u001b[0m\u001b[0mdata\u001b[0m\u001b[0;34m.\u001b[0m\u001b[0mgroupby\u001b[0m\u001b[0;34m(\u001b[0m\u001b[0mcondition\u001b[0m\u001b[0;34m,\u001b[0m \u001b[0msort\u001b[0m\u001b[0;34m=\u001b[0m\u001b[0;32mFalse\u001b[0m\u001b[0;34m)\u001b[0m\u001b[0;34m)\u001b[0m\u001b[0;34m:\u001b[0m\u001b[0;34m\u001b[0m\u001b[0m\n\u001b[1;32m    276\u001b[0m \u001b[0;34m\u001b[0m\u001b[0m\n\u001b[0;32m--> 277\u001b[0;31m         \u001b[0mdf_c\u001b[0m \u001b[0;34m=\u001b[0m \u001b[0mdf_c\u001b[0m\u001b[0;34m.\u001b[0m\u001b[0mpivot\u001b[0m\u001b[0;34m(\u001b[0m\u001b[0munit\u001b[0m\u001b[0;34m,\u001b[0m \u001b[0mtime\u001b[0m\u001b[0;34m,\u001b[0m \u001b[0mvalue\u001b[0m\u001b[0;34m)\u001b[0m\u001b[0;34m\u001b[0m\u001b[0m\n\u001b[0m\u001b[1;32m    278\u001b[0m         \u001b[0mx\u001b[0m \u001b[0;34m=\u001b[0m \u001b[0mdf_c\u001b[0m\u001b[0;34m.\u001b[0m\u001b[0mcolumns\u001b[0m\u001b[0;34m.\u001b[0m\u001b[0mvalues\u001b[0m\u001b[0;34m.\u001b[0m\u001b[0mastype\u001b[0m\u001b[0;34m(\u001b[0m\u001b[0mnp\u001b[0m\u001b[0;34m.\u001b[0m\u001b[0mfloat\u001b[0m\u001b[0;34m)\u001b[0m\u001b[0;34m\u001b[0m\u001b[0m\n\u001b[1;32m    279\u001b[0m \u001b[0;34m\u001b[0m\u001b[0m\n",
      "\u001b[0;32m/Users/lexieheinle/anaconda/envs/homework/lib/python3.5/site-packages/pandas/core/frame.py\u001b[0m in \u001b[0;36mpivot\u001b[0;34m(self, index, columns, values)\u001b[0m\n\u001b[1;32m   3761\u001b[0m         \"\"\"\n\u001b[1;32m   3762\u001b[0m         \u001b[0;32mfrom\u001b[0m \u001b[0mpandas\u001b[0m\u001b[0;34m.\u001b[0m\u001b[0mcore\u001b[0m\u001b[0;34m.\u001b[0m\u001b[0mreshape\u001b[0m \u001b[0;32mimport\u001b[0m \u001b[0mpivot\u001b[0m\u001b[0;34m\u001b[0m\u001b[0m\n\u001b[0;32m-> 3763\u001b[0;31m         \u001b[0;32mreturn\u001b[0m \u001b[0mpivot\u001b[0m\u001b[0;34m(\u001b[0m\u001b[0mself\u001b[0m\u001b[0;34m,\u001b[0m \u001b[0mindex\u001b[0m\u001b[0;34m=\u001b[0m\u001b[0mindex\u001b[0m\u001b[0;34m,\u001b[0m \u001b[0mcolumns\u001b[0m\u001b[0;34m=\u001b[0m\u001b[0mcolumns\u001b[0m\u001b[0;34m,\u001b[0m \u001b[0mvalues\u001b[0m\u001b[0;34m=\u001b[0m\u001b[0mvalues\u001b[0m\u001b[0;34m)\u001b[0m\u001b[0;34m\u001b[0m\u001b[0m\n\u001b[0m\u001b[1;32m   3764\u001b[0m \u001b[0;34m\u001b[0m\u001b[0m\n\u001b[1;32m   3765\u001b[0m     \u001b[0;32mdef\u001b[0m \u001b[0mstack\u001b[0m\u001b[0;34m(\u001b[0m\u001b[0mself\u001b[0m\u001b[0;34m,\u001b[0m \u001b[0mlevel\u001b[0m\u001b[0;34m=\u001b[0m\u001b[0;34m-\u001b[0m\u001b[0;36m1\u001b[0m\u001b[0;34m,\u001b[0m \u001b[0mdropna\u001b[0m\u001b[0;34m=\u001b[0m\u001b[0;32mTrue\u001b[0m\u001b[0;34m)\u001b[0m\u001b[0;34m:\u001b[0m\u001b[0;34m\u001b[0m\u001b[0m\n",
      "\u001b[0;32m/Users/lexieheinle/anaconda/envs/homework/lib/python3.5/site-packages/pandas/core/reshape.py\u001b[0m in \u001b[0;36mpivot\u001b[0;34m(self, index, columns, values)\u001b[0m\n\u001b[1;32m    322\u001b[0m         \u001b[0mcols\u001b[0m \u001b[0;34m=\u001b[0m \u001b[0;34m[\u001b[0m\u001b[0mcolumns\u001b[0m\u001b[0;34m]\u001b[0m \u001b[0;32mif\u001b[0m \u001b[0mindex\u001b[0m \u001b[0;32mis\u001b[0m \u001b[0;32mNone\u001b[0m \u001b[0;32melse\u001b[0m \u001b[0;34m[\u001b[0m\u001b[0mindex\u001b[0m\u001b[0;34m,\u001b[0m \u001b[0mcolumns\u001b[0m\u001b[0;34m]\u001b[0m\u001b[0;34m\u001b[0m\u001b[0m\n\u001b[1;32m    323\u001b[0m         \u001b[0mappend\u001b[0m \u001b[0;34m=\u001b[0m \u001b[0mindex\u001b[0m \u001b[0;32mis\u001b[0m \u001b[0;32mNone\u001b[0m\u001b[0;34m\u001b[0m\u001b[0m\n\u001b[0;32m--> 324\u001b[0;31m         \u001b[0mindexed\u001b[0m \u001b[0;34m=\u001b[0m \u001b[0mself\u001b[0m\u001b[0;34m.\u001b[0m\u001b[0mset_index\u001b[0m\u001b[0;34m(\u001b[0m\u001b[0mcols\u001b[0m\u001b[0;34m,\u001b[0m \u001b[0mappend\u001b[0m\u001b[0;34m=\u001b[0m\u001b[0mappend\u001b[0m\u001b[0;34m)\u001b[0m\u001b[0;34m\u001b[0m\u001b[0m\n\u001b[0m\u001b[1;32m    325\u001b[0m         \u001b[0;32mreturn\u001b[0m \u001b[0mindexed\u001b[0m\u001b[0;34m.\u001b[0m\u001b[0munstack\u001b[0m\u001b[0;34m(\u001b[0m\u001b[0mcolumns\u001b[0m\u001b[0;34m)\u001b[0m\u001b[0;34m\u001b[0m\u001b[0m\n\u001b[1;32m    326\u001b[0m     \u001b[0;32melse\u001b[0m\u001b[0;34m:\u001b[0m\u001b[0;34m\u001b[0m\u001b[0m\n",
      "\u001b[0;32m/Users/lexieheinle/anaconda/envs/homework/lib/python3.5/site-packages/pandas/core/frame.py\u001b[0m in \u001b[0;36mset_index\u001b[0;34m(self, keys, drop, append, inplace, verify_integrity)\u001b[0m\n\u001b[1;32m   2778\u001b[0m                 \u001b[0mnames\u001b[0m\u001b[0;34m.\u001b[0m\u001b[0mappend\u001b[0m\u001b[0;34m(\u001b[0m\u001b[0;32mNone\u001b[0m\u001b[0;34m)\u001b[0m\u001b[0;34m\u001b[0m\u001b[0m\n\u001b[1;32m   2779\u001b[0m             \u001b[0;32melse\u001b[0m\u001b[0;34m:\u001b[0m\u001b[0;34m\u001b[0m\u001b[0m\n\u001b[0;32m-> 2780\u001b[0;31m                 \u001b[0mlevel\u001b[0m \u001b[0;34m=\u001b[0m \u001b[0mframe\u001b[0m\u001b[0;34m[\u001b[0m\u001b[0mcol\u001b[0m\u001b[0;34m]\u001b[0m\u001b[0;34m.\u001b[0m\u001b[0m_values\u001b[0m\u001b[0;34m\u001b[0m\u001b[0m\n\u001b[0m\u001b[1;32m   2781\u001b[0m                 \u001b[0mnames\u001b[0m\u001b[0;34m.\u001b[0m\u001b[0mappend\u001b[0m\u001b[0;34m(\u001b[0m\u001b[0mcol\u001b[0m\u001b[0;34m)\u001b[0m\u001b[0;34m\u001b[0m\u001b[0m\n\u001b[1;32m   2782\u001b[0m                 \u001b[0;32mif\u001b[0m \u001b[0mdrop\u001b[0m\u001b[0;34m:\u001b[0m\u001b[0;34m\u001b[0m\u001b[0m\n",
      "\u001b[0;32m/Users/lexieheinle/anaconda/envs/homework/lib/python3.5/site-packages/pandas/core/frame.py\u001b[0m in \u001b[0;36m__getitem__\u001b[0;34m(self, key)\u001b[0m\n\u001b[1;32m   1967\u001b[0m             \u001b[0;32mreturn\u001b[0m \u001b[0mself\u001b[0m\u001b[0;34m.\u001b[0m\u001b[0m_getitem_multilevel\u001b[0m\u001b[0;34m(\u001b[0m\u001b[0mkey\u001b[0m\u001b[0;34m)\u001b[0m\u001b[0;34m\u001b[0m\u001b[0m\n\u001b[1;32m   1968\u001b[0m         \u001b[0;32melse\u001b[0m\u001b[0;34m:\u001b[0m\u001b[0;34m\u001b[0m\u001b[0m\n\u001b[0;32m-> 1969\u001b[0;31m             \u001b[0;32mreturn\u001b[0m \u001b[0mself\u001b[0m\u001b[0;34m.\u001b[0m\u001b[0m_getitem_column\u001b[0m\u001b[0;34m(\u001b[0m\u001b[0mkey\u001b[0m\u001b[0;34m)\u001b[0m\u001b[0;34m\u001b[0m\u001b[0m\n\u001b[0m\u001b[1;32m   1970\u001b[0m \u001b[0;34m\u001b[0m\u001b[0m\n\u001b[1;32m   1971\u001b[0m     \u001b[0;32mdef\u001b[0m \u001b[0m_getitem_column\u001b[0m\u001b[0;34m(\u001b[0m\u001b[0mself\u001b[0m\u001b[0;34m,\u001b[0m \u001b[0mkey\u001b[0m\u001b[0;34m)\u001b[0m\u001b[0;34m:\u001b[0m\u001b[0;34m\u001b[0m\u001b[0m\n",
      "\u001b[0;32m/Users/lexieheinle/anaconda/envs/homework/lib/python3.5/site-packages/pandas/core/frame.py\u001b[0m in \u001b[0;36m_getitem_column\u001b[0;34m(self, key)\u001b[0m\n\u001b[1;32m   1974\u001b[0m         \u001b[0;31m# get column\u001b[0m\u001b[0;34m\u001b[0m\u001b[0;34m\u001b[0m\u001b[0m\n\u001b[1;32m   1975\u001b[0m         \u001b[0;32mif\u001b[0m \u001b[0mself\u001b[0m\u001b[0;34m.\u001b[0m\u001b[0mcolumns\u001b[0m\u001b[0;34m.\u001b[0m\u001b[0mis_unique\u001b[0m\u001b[0;34m:\u001b[0m\u001b[0;34m\u001b[0m\u001b[0m\n\u001b[0;32m-> 1976\u001b[0;31m             \u001b[0;32mreturn\u001b[0m \u001b[0mself\u001b[0m\u001b[0;34m.\u001b[0m\u001b[0m_get_item_cache\u001b[0m\u001b[0;34m(\u001b[0m\u001b[0mkey\u001b[0m\u001b[0;34m)\u001b[0m\u001b[0;34m\u001b[0m\u001b[0m\n\u001b[0m\u001b[1;32m   1977\u001b[0m \u001b[0;34m\u001b[0m\u001b[0m\n\u001b[1;32m   1978\u001b[0m         \u001b[0;31m# duplicate columns & possible reduce dimensionality\u001b[0m\u001b[0;34m\u001b[0m\u001b[0;34m\u001b[0m\u001b[0m\n",
      "\u001b[0;32m/Users/lexieheinle/anaconda/envs/homework/lib/python3.5/site-packages/pandas/core/generic.py\u001b[0m in \u001b[0;36m_get_item_cache\u001b[0;34m(self, item)\u001b[0m\n\u001b[1;32m   1089\u001b[0m         \u001b[0mres\u001b[0m \u001b[0;34m=\u001b[0m \u001b[0mcache\u001b[0m\u001b[0;34m.\u001b[0m\u001b[0mget\u001b[0m\u001b[0;34m(\u001b[0m\u001b[0mitem\u001b[0m\u001b[0;34m)\u001b[0m\u001b[0;34m\u001b[0m\u001b[0m\n\u001b[1;32m   1090\u001b[0m         \u001b[0;32mif\u001b[0m \u001b[0mres\u001b[0m \u001b[0;32mis\u001b[0m \u001b[0;32mNone\u001b[0m\u001b[0;34m:\u001b[0m\u001b[0;34m\u001b[0m\u001b[0m\n\u001b[0;32m-> 1091\u001b[0;31m             \u001b[0mvalues\u001b[0m \u001b[0;34m=\u001b[0m \u001b[0mself\u001b[0m\u001b[0;34m.\u001b[0m\u001b[0m_data\u001b[0m\u001b[0;34m.\u001b[0m\u001b[0mget\u001b[0m\u001b[0;34m(\u001b[0m\u001b[0mitem\u001b[0m\u001b[0;34m)\u001b[0m\u001b[0;34m\u001b[0m\u001b[0m\n\u001b[0m\u001b[1;32m   1092\u001b[0m             \u001b[0mres\u001b[0m \u001b[0;34m=\u001b[0m \u001b[0mself\u001b[0m\u001b[0;34m.\u001b[0m\u001b[0m_box_item_values\u001b[0m\u001b[0;34m(\u001b[0m\u001b[0mitem\u001b[0m\u001b[0;34m,\u001b[0m \u001b[0mvalues\u001b[0m\u001b[0;34m)\u001b[0m\u001b[0;34m\u001b[0m\u001b[0m\n\u001b[1;32m   1093\u001b[0m             \u001b[0mcache\u001b[0m\u001b[0;34m[\u001b[0m\u001b[0mitem\u001b[0m\u001b[0;34m]\u001b[0m \u001b[0;34m=\u001b[0m \u001b[0mres\u001b[0m\u001b[0;34m\u001b[0m\u001b[0m\n",
      "\u001b[0;32m/Users/lexieheinle/anaconda/envs/homework/lib/python3.5/site-packages/pandas/core/internals.py\u001b[0m in \u001b[0;36mget\u001b[0;34m(self, item, fastpath)\u001b[0m\n\u001b[1;32m   3218\u001b[0m                         \u001b[0mloc\u001b[0m \u001b[0;34m=\u001b[0m \u001b[0mindexer\u001b[0m\u001b[0;34m.\u001b[0m\u001b[0mitem\u001b[0m\u001b[0;34m(\u001b[0m\u001b[0;34m)\u001b[0m\u001b[0;34m\u001b[0m\u001b[0m\n\u001b[1;32m   3219\u001b[0m                     \u001b[0;32melse\u001b[0m\u001b[0;34m:\u001b[0m\u001b[0;34m\u001b[0m\u001b[0m\n\u001b[0;32m-> 3220\u001b[0;31m                         \u001b[0;32mraise\u001b[0m \u001b[0mValueError\u001b[0m\u001b[0;34m(\u001b[0m\u001b[0;34m\"cannot label index with a null key\"\u001b[0m\u001b[0;34m)\u001b[0m\u001b[0;34m\u001b[0m\u001b[0m\n\u001b[0m\u001b[1;32m   3221\u001b[0m \u001b[0;34m\u001b[0m\u001b[0m\n\u001b[1;32m   3222\u001b[0m             \u001b[0;32mreturn\u001b[0m \u001b[0mself\u001b[0m\u001b[0;34m.\u001b[0m\u001b[0miget\u001b[0m\u001b[0;34m(\u001b[0m\u001b[0mloc\u001b[0m\u001b[0;34m,\u001b[0m \u001b[0mfastpath\u001b[0m\u001b[0;34m=\u001b[0m\u001b[0mfastpath\u001b[0m\u001b[0;34m)\u001b[0m\u001b[0;34m\u001b[0m\u001b[0m\n",
      "\u001b[0;31mValueError\u001b[0m: cannot label index with a null key"
     ]
    },
    {
     "data": {
      "image/png": "[encoded data removed]",
      "text/plain": [
       "<matplotlib.figure.Figure at 0x1152e4630>"
      ]
     },
     "metadata": {},
     "output_type": "display_data"
    }
   ],
   "source": [
    "sns.set_style(\"white\")\n",
    "sns.tsplot(y=\" MeanAvgTemperature\", data=df);\n",
    "plt.ylabel('')\n",
    "plt.xlabel('Differences in Annual Temperatures Compared to 30 year average 1981-2010')\n",
    "plt.xticks(rotation=90)\n",
    "plt.autoscale(tight=True)\n",
    "#ax = plt.gca()\n",
    "#ax.get_xticks().get_major_formatter().scaled[365] = '%y'\n",
    "sns.despine(bottom=True, left=True)"
   ]
  },
  {
   "cell_type": "code",
   "execution_count": null,
   "metadata": {
    "collapsed": true
   },
   "outputs": [],
   "source": []
  }
 ],
 "metadata": {
  "kernelspec": {
   "display_name": "Python 3",
   "language": "python",
   "name": "python3"
  },
  "language_info": {
   "codemirror_mode": {
    "name": "ipython",
    "version": 3
   },
   "file_extension": ".py",
   "mimetype": "text/x-python",
   "name": "python",
   "nbconvert_exporter": "python",
   "pygments_lexer": "ipython3",
   "version": "3.5.1"
  }
 },
 "nbformat": 4,
 "nbformat_minor": 0
}
