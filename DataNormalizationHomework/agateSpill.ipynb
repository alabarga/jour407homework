{
 "cells": [
  {
   "cell_type": "markdown",
   "metadata": {},
   "source": [
    "Need to import agate before starting"
   ]
  },
  {
   "cell_type": "code",
   "execution_count": 23,
   "metadata": {
    "collapsed": false
   },
   "outputs": [],
   "source": [
    "import agate"
   ]
  },
  {
   "cell_type": "markdown",
   "metadata": {},
   "source": [
    "Create agate Table from Leaking tanks csv file"
   ]
  },
  {
   "cell_type": "code",
   "execution_count": 24,
   "metadata": {
    "collapsed": false
   },
   "outputs": [],
   "source": [
    "spills = agate.Table.from_csv('fliteredlustclean.csv')"
   ]
  },
  {
   "cell_type": "markdown",
   "metadata": {},
   "source": [
    "Check out column names & types from salaries table"
   ]
  },
  {
   "cell_type": "code",
   "execution_count": 25,
   "metadata": {
    "collapsed": false
   },
   "outputs": [
    {
     "name": "stdout",
     "output_type": "stream",
     "text": [
      "|--------------------------------------+---------------|\n",
      "|  column_names                        | column_types  |\n",
      "|--------------------------------------+---------------|\n",
      "|  SPILLNO-------                      | Text          |\n",
      "|  S                                   | Text          |\n",
      "|  OWNCO--------------------           | Text          |\n",
      "|  OWNSTREET-----------                | Text          |\n",
      "|  OWNCITY-------------                | Text          |\n",
      "|  OS                                  | Text          |\n",
      "|  OZIP                                | Text          |\n",
      "|  TY                                  | Number        |\n",
      "|  DIDATE----                          | Date          |\n",
      "|  SPLOC     ------------------------- | Text          |\n",
      "|  SPCITY-------------------           | Text          |\n",
      "|  SPCOUN-------------------           | Text          |\n",
      "|  MATERIAL----------------------      | Text          |\n",
      "|  SFM_ID--                            | Text          |\n",
      "|  FAC_NAME-----------------           | Text          |\n",
      "|--------------------------------------+---------------|\n",
      "\n"
     ]
    }
   ],
   "source": [
    "print(spills)"
   ]
  },
  {
   "cell_type": "markdown",
   "metadata": {},
   "source": [
    "Let's group by owner"
   ]
  },
  {
   "cell_type": "code",
   "execution_count": 26,
   "metadata": {
    "collapsed": false
   },
   "outputs": [],
   "source": [
    "by_owner = spills.group_by('OWNCO--------------------')"
   ]
  },
  {
   "cell_type": "markdown",
   "metadata": {},
   "source": [
    "Let's see owners totals"
   ]
  },
  {
   "cell_type": "code",
   "execution_count": 27,
   "metadata": {
    "collapsed": false
   },
   "outputs": [],
   "source": [
    "owner_totals = by_owner.aggregate([\n",
    "        ('count', agate.Length())\n",
    "    ])"
   ]
  },
  {
   "cell_type": "markdown",
   "metadata": {},
   "source": [
    "Let's find the worst offenders"
   ]
  },
  {
   "cell_type": "code",
   "execution_count": 28,
   "metadata": {
    "collapsed": false
   },
   "outputs": [],
   "source": [
    "sorted_totals = owner_totals.order_by('count', reverse=True)"
   ]
  },
  {
   "cell_type": "markdown",
   "metadata": {},
   "source": [
    "Print the top 20 offenders"
   ]
  },
  {
   "cell_type": "code",
   "execution_count": 29,
   "metadata": {
    "collapsed": false
   },
   "outputs": [
    {
     "name": "stdout",
     "output_type": "stream",
     "text": [
      "|----------------------------+--------|\n",
      "|  OWNCO-------------------- | count  |\n",
      "|----------------------------+--------|\n",
      "|                            |   109  |\n",
      "|  UNKNOWN                   |    63  |\n",
      "|  BURLINGTON NORTHERN & SFR |    14  |\n",
      "|  ORPHAN UST                |    11  |\n",
      "|  UPRR                      |     8  |\n",
      "|  BENSON 66 SERVICE INC     |     8  |\n",
      "|  WHITEHEAD OIL CO          |     7  |\n",
      "|  BOSSELMAN INC             |     6  |\n",
      "|  OFFUTT A F B              |     6  |\n",
      "|  BNSF RAILWAY CO           |     6  |\n",
      "|  CITY OF OMAHA             |     5  |\n",
      "|  BENSON 66                 |     5  |\n",
      "|  ARMY CORPS OF ENGINEERS   |     5  |\n",
      "|  CASEYS GENERAL STORES     |     4  |\n",
      "|  RITEWAY OIL & GAS CO INC  |     4  |\n",
      "|  ORPHAN TANKS              |     4  |\n",
      "|  NEBR DEPT OF ROADS        |     4  |\n",
      "|  CITY OF LINCOLN           |     3  |\n",
      "|  CENTRAL VALLEY AG COOP    |     3  |\n",
      "|  MILDER OIL                |     3  |\n",
      "|  ...                       |   ...  |\n",
      "|----------------------------+--------|\n"
     ]
    }
   ],
   "source": [
    "sorted_totals.print_table(max_rows=20)"
   ]
  },
  {
   "cell_type": "code",
   "execution_count": null,
   "metadata": {
    "collapsed": true
   },
   "outputs": [],
   "source": []
  }
 ],
 "metadata": {
  "kernelspec": {
   "display_name": "Python 3",
   "language": "python",
   "name": "python3"
  },
  "language_info": {
   "codemirror_mode": {
    "name": "ipython",
    "version": 3
   },
   "file_extension": ".py",
   "mimetype": "text/x-python",
   "name": "python",
   "nbconvert_exporter": "python",
   "pygments_lexer": "ipython3",
   "version": "3.5.1"
  }
 },
 "nbformat": 4,
 "nbformat_minor": 0
}
