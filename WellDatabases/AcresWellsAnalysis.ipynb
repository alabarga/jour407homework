{
 "cells": [
  {
   "cell_type": "markdown",
   "metadata": {},
   "source": [
    "Import agate, python based data analysis"
   ]
  },
  {
   "cell_type": "code",
   "execution_count": 1,
   "metadata": {
    "collapsed": true
   },
   "outputs": [],
   "source": [
    "import agate"
   ]
  },
  {
   "cell_type": "code",
   "execution_count": 2,
   "metadata": {
    "collapsed": false
   },
   "outputs": [],
   "source": [
    "wells97 = agate.Table.from_csv('wells1997.csv')\n",
    "wells02 = agate.Table.from_csv('wells2002.csv')\n",
    "wells07 = agate.Table.from_csv('wells2007.csv')\n",
    "wells12 = agate.Table.from_csv('wells2012.csv')\n",
    "def upperCase(row):\n",
    "    return row['Countyname'].upper()\n",
    "clean_well97 = wells97.compute([\n",
    "        ('clean_County', agate.Formula(agate.Text(), upperCase))\n",
    "]).select(['clean_County', 'Wells'])\n",
    "clean_well02 = wells02.compute([\n",
    "        ('clean_County', agate.Formula(agate.Text(), upperCase))\n",
    "]).select(['clean_County', 'Wells'])\n",
    "clean_well07 = wells07.compute([\n",
    "        ('clean_County', agate.Formula(agate.Text(), upperCase))\n",
    "]).select(['clean_County', 'Wells'])\n",
    "clean_well12 = wells12.compute([\n",
    "        ('clean_County', agate.Formula(agate.Text(), upperCase))\n",
    "]).select(['clean_County', 'Wells'])"
   ]
  },
  {
   "cell_type": "code",
   "execution_count": 3,
   "metadata": {
    "collapsed": false
   },
   "outputs": [
    {
     "name": "stdout",
     "output_type": "stream",
     "text": [
      "|---------------+---------------|\n",
      "|  column_names | column_types  |\n",
      "|---------------+---------------|\n",
      "|  clean_County | Text          |\n",
      "|  Wells        | Number        |\n",
      "|---------------+---------------|\n",
      "\n"
     ]
    }
   ],
   "source": [
    "print(clean_well97)"
   ]
  },
  {
   "cell_type": "code",
   "execution_count": 4,
   "metadata": {
    "collapsed": true
   },
   "outputs": [],
   "source": [
    "acres97 = agate.Table.from_csv('irrigatedAcres1997.csv')\n",
    "acres02 = agate.Table.from_csv('irrigatedAcres2002.csv')\n",
    "acres07 = agate.Table.from_csv('irrigatedAcres2007.csv')\n",
    "acres12 = agate.Table.from_csv('irrigatedAcres2012.csv')"
   ]
  },
  {
   "cell_type": "code",
   "execution_count": 5,
   "metadata": {
    "collapsed": false
   },
   "outputs": [
    {
     "name": "stdout",
     "output_type": "stream",
     "text": [
      "|-----------------+---------------|\n",
      "|  column_names   | column_types  |\n",
      "|-----------------+---------------|\n",
      "|  Year           | Date          |\n",
      "|  County         | Text          |\n",
      "|  IrrigatedAcres | Number        |\n",
      "|-----------------+---------------|\n",
      "\n",
      "|-------------+---------+-----------------|\n",
      "|        Year | County  | IrrigatedAcres  |\n",
      "|-------------+---------+-----------------|\n",
      "|  1997-01-01 | BUFFALO |        213,778  |\n",
      "|  1997-01-01 | CUSTER  |        197,726  |\n",
      "|  1997-01-01 | DAWSON  |        222,075  |\n",
      "|  1997-01-01 | GREELEY |         57,413  |\n",
      "|  1997-01-01 | HALL    |        181,222  |\n",
      "|  1997-01-01 | HOWARD  |        111,342  |\n",
      "|  1997-01-01 | SHERMAN |         59,487  |\n",
      "|  1997-01-01 | VALLEY  |         73,340  |\n",
      "|  1997-01-01 | BUTLER  |         97,543  |\n",
      "|  1997-01-01 | COLFAX  |         53,059  |\n",
      "|         ... | ...     |            ...  |\n",
      "|-------------+---------+-----------------|\n"
     ]
    }
   ],
   "source": [
    "print(acres97)\n",
    "acres97.print_table(10)\n"
   ]
  },
  {
   "cell_type": "code",
   "execution_count": 6,
   "metadata": {
    "collapsed": false
   },
   "outputs": [
    {
     "name": "stdout",
     "output_type": "stream",
     "text": [
      "91\n",
      "93\n",
      "93\n",
      "93\n"
     ]
    }
   ],
   "source": [
    "total97 = clean_well97.join(acres97, 'clean_County', 'County', inner=True)\n",
    "print(len(total97.rows))\n",
    "total97.to_csv('wells_acres97.csv')\n",
    "\n",
    "total02 = clean_well02.join(acres02, 'clean_County', 'County', inner=True)\n",
    "print(len(total02.rows))\n",
    "total02.to_csv('wells_acres02.csv')\n",
    "\n",
    "total07 = clean_well07.join(acres07, 'clean_County', 'County', inner=True)\n",
    "print(len(total07.rows))\n",
    "total07.to_csv('wells_acres07.csv')\n",
    "\n",
    "total12 = clean_well12.join(acres12, 'clean_County', 'County', inner=True)\n",
    "print(len(total12.rows))\n",
    "total12.to_csv('wells_acres12.csv')"
   ]
  },
  {
   "cell_type": "code",
   "execution_count": null,
   "metadata": {
    "collapsed": true
   },
   "outputs": [],
   "source": []
  }
 ],
 "metadata": {
  "kernelspec": {
   "display_name": "Python 3",
   "language": "python",
   "name": "python3"
  },
  "language_info": {
   "codemirror_mode": {
    "name": "ipython",
    "version": 3
   },
   "file_extension": ".py",
   "mimetype": "text/x-python",
   "name": "python",
   "nbconvert_exporter": "python",
   "pygments_lexer": "ipython3",
   "version": "3.5.1"
  }
 },
 "nbformat": 4,
 "nbformat_minor": 0
}
